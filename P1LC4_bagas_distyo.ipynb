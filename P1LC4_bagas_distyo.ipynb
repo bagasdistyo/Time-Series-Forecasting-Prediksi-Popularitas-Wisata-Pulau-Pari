{
 "cells": [
  {
   "cell_type": "markdown",
   "metadata": {},
   "source": [
    "# BAB 1 - Perkenalan"
   ]
  },
  {
   "cell_type": "markdown",
   "metadata": {},
   "source": [
    "Nama : Bagas Distyo Utomo\n",
    "\n",
    "Batch : RMT-41\n",
    "\n",
    "Problem Statement :\n",
    "Memprediksi tren popularitas Pulau Pari berdasarkan data Google Trends untuk meningkatkan akurasi peramalan permintaan dan mendukung perencanaan promosi, dengan tujuan menghasilkan prediksi mingguan yang akurat selama 52 minggu ke depan menggunakan model time series, sehingga dapat membantu pengambilan keputusan yang berbasis data bagi perusahaan travel agent.\n",
    "\n",
    "\n",
    "Objective :\n",
    "Tujuan dari analisis ini adalah membangun model prediksi menggunakan pendekatan ARIMA dan SARIMA untuk memperkirakan popularitas Pulau Pari selama 52 minggu ke depan. Evaluasi performa model dilakukan menggunakan metrik MAE (Mean Absolute Error) dan MAPE (Mean Absolute Percentage Error), guna menilai tingkat akurasi prediksi dan menentukan model yang paling optimal dalam mendukung perencanaan pemasaran dan pengelolaan paket wisata ke Pulau Pari.\n"
   ]
  },
  {
   "cell_type": "markdown",
   "metadata": {},
   "source": [
    "# BAB 2 - Import Libraries"
   ]
  },
  {
   "cell_type": "markdown",
   "metadata": {},
   "source": [
    "Untuk semua library yang akan digunakan disimpan di bab ini."
   ]
  },
  {
   "cell_type": "code",
   "execution_count": 67,
   "metadata": {},
   "outputs": [],
   "source": [
    "import pandas as pd\n",
    "import numpy as np\n",
    "import matplotlib.pyplot as plt\n",
    "import pylab\n",
    "import plotly.express as px\n",
    "from statsmodels.tsa.seasonal import seasonal_decompose\n",
    "from sklearn.model_selection import train_test_split\n",
    "from statsmodels.tsa.stattools import adfuller\n",
    "from statsmodels.graphics.tsaplots import plot_acf, plot_pacf\n",
    "from statsmodels.tsa.arima.model import ARIMA\n",
    "from sklearn.metrics import mean_absolute_error, mean_absolute_percentage_error\n",
    "from statsmodels.tsa.statespace.sarimax import SARIMAX"
   ]
  },
  {
   "cell_type": "markdown",
   "metadata": {},
   "source": [
    "Selanjutnya melakukan data loading"
   ]
  },
  {
   "cell_type": "markdown",
   "metadata": {},
   "source": [
    "# BAB 3 - Data Loading"
   ]
  },
  {
   "cell_type": "code",
   "execution_count": 31,
   "metadata": {},
   "outputs": [
    {
     "data": {
      "text/html": [
       "<div>\n",
       "<style scoped>\n",
       "    .dataframe tbody tr th:only-of-type {\n",
       "        vertical-align: middle;\n",
       "    }\n",
       "\n",
       "    .dataframe tbody tr th {\n",
       "        vertical-align: top;\n",
       "    }\n",
       "\n",
       "    .dataframe thead th {\n",
       "        text-align: right;\n",
       "    }\n",
       "</style>\n",
       "<table border=\"1\" class=\"dataframe\">\n",
       "  <thead>\n",
       "    <tr style=\"text-align: right;\">\n",
       "      <th></th>\n",
       "      <th>Category: All categories</th>\n",
       "    </tr>\n",
       "  </thead>\n",
       "  <tbody>\n",
       "    <tr>\n",
       "      <th>Week</th>\n",
       "      <td>Pulau Pari: (Indonesia)</td>\n",
       "    </tr>\n",
       "    <tr>\n",
       "      <th>2022-03-27</th>\n",
       "      <td>16</td>\n",
       "    </tr>\n",
       "    <tr>\n",
       "      <th>2022-04-03</th>\n",
       "      <td>13</td>\n",
       "    </tr>\n",
       "    <tr>\n",
       "      <th>2022-04-10</th>\n",
       "      <td>18</td>\n",
       "    </tr>\n",
       "    <tr>\n",
       "      <th>2022-04-17</th>\n",
       "      <td>29</td>\n",
       "    </tr>\n",
       "  </tbody>\n",
       "</table>\n",
       "</div>"
      ],
      "text/plain": [
       "           Category: All categories\n",
       "Week        Pulau Pari: (Indonesia)\n",
       "2022-03-27                       16\n",
       "2022-04-03                       13\n",
       "2022-04-10                       18\n",
       "2022-04-17                       29"
      ]
     },
     "execution_count": 31,
     "metadata": {},
     "output_type": "execute_result"
    }
   ],
   "source": [
    "#dataset load\n",
    "df_ori = pd.read_csv('multiTimeline.csv')\n",
    "\n",
    "#duplicat dataset\n",
    "df = df_ori.copy() #Tujuan duplikat agar dataset asli tidak berubah ketika dibutuhkan suatu saat nanti\n",
    "df.head(5)"
   ]
  },
  {
   "cell_type": "markdown",
   "metadata": {},
   "source": [
    "Data sudah berhasil di load, selanjutnya melakukan eksplorasi data sederhana."
   ]
  },
  {
   "cell_type": "code",
   "execution_count": null,
   "metadata": {},
   "outputs": [],
   "source": [
    "# df.reset_index(inplace=True) #Mengubah kolom week menjadi kolom biasa untuk dianalisis"
   ]
  },
  {
   "cell_type": "code",
   "execution_count": 30,
   "metadata": {},
   "outputs": [
    {
     "name": "stdout",
     "output_type": "stream",
     "text": [
      "<class 'pandas.core.frame.DataFrame'>\n",
      "Index: 127 entries, Week to 2024-08-18\n",
      "Data columns (total 1 columns):\n",
      " #   Column                    Non-Null Count  Dtype \n",
      "---  ------                    --------------  ----- \n",
      " 0   Category: All categories  127 non-null    object\n",
      "dtypes: object(1)\n",
      "memory usage: 2.0+ KB\n"
     ]
    }
   ],
   "source": [
    "df.info()"
   ]
  },
  {
   "cell_type": "markdown",
   "metadata": {},
   "source": [
    "Data tersebut berisi 127 baris dan untuk isi kolom categorynya object, seharusnya integer. Selanjutnya rename column agar lebih sesuai"
   ]
  },
  {
   "cell_type": "code",
   "execution_count": 32,
   "metadata": {},
   "outputs": [],
   "source": [
    "# Renaming columns\n",
    "df.rename(columns={'Category: All categories': 'Popularity'}, inplace=True)"
   ]
  },
  {
   "cell_type": "markdown",
   "metadata": {},
   "source": [
    "Selanjutnya menghapus baris pertama karena berisi week dan pulau pari."
   ]
  },
  {
   "cell_type": "code",
   "execution_count": 36,
   "metadata": {},
   "outputs": [],
   "source": [
    "df.drop(df.index[0], inplace=True) #Menghapus baris pertama karena itu sebagai nama kolom"
   ]
  },
  {
   "cell_type": "code",
   "execution_count": 37,
   "metadata": {},
   "outputs": [
    {
     "data": {
      "text/html": [
       "<div>\n",
       "<style scoped>\n",
       "    .dataframe tbody tr th:only-of-type {\n",
       "        vertical-align: middle;\n",
       "    }\n",
       "\n",
       "    .dataframe tbody tr th {\n",
       "        vertical-align: top;\n",
       "    }\n",
       "\n",
       "    .dataframe thead th {\n",
       "        text-align: right;\n",
       "    }\n",
       "</style>\n",
       "<table border=\"1\" class=\"dataframe\">\n",
       "  <thead>\n",
       "    <tr style=\"text-align: right;\">\n",
       "      <th></th>\n",
       "      <th>Popularity</th>\n",
       "    </tr>\n",
       "  </thead>\n",
       "  <tbody>\n",
       "    <tr>\n",
       "      <th>2022-03-27</th>\n",
       "      <td>16</td>\n",
       "    </tr>\n",
       "    <tr>\n",
       "      <th>2022-04-03</th>\n",
       "      <td>13</td>\n",
       "    </tr>\n",
       "    <tr>\n",
       "      <th>2022-04-10</th>\n",
       "      <td>18</td>\n",
       "    </tr>\n",
       "    <tr>\n",
       "      <th>2022-04-17</th>\n",
       "      <td>29</td>\n",
       "    </tr>\n",
       "    <tr>\n",
       "      <th>2022-04-24</th>\n",
       "      <td>35</td>\n",
       "    </tr>\n",
       "  </tbody>\n",
       "</table>\n",
       "</div>"
      ],
      "text/plain": [
       "           Popularity\n",
       "2022-03-27         16\n",
       "2022-04-03         13\n",
       "2022-04-10         18\n",
       "2022-04-17         29\n",
       "2022-04-24         35"
      ]
     },
     "execution_count": 37,
     "metadata": {},
     "output_type": "execute_result"
    }
   ],
   "source": [
    "df.head(5)"
   ]
  },
  {
   "cell_type": "markdown",
   "metadata": {},
   "source": [
    "Data tersebut menjadi 126 baris dan untuk datenya itu menggunakan week atau mingguan berdasarkan penjelasan soal. Selanjutnya melakukan EDA"
   ]
  },
  {
   "cell_type": "markdown",
   "metadata": {},
   "source": [
    "# BAB 4 - Exploratory Data Analysis (EDA)"
   ]
  },
  {
   "cell_type": "markdown",
   "metadata": {},
   "source": [
    "Selanjutnya mengubah tipe data popularity menjadi integer"
   ]
  },
  {
   "cell_type": "code",
   "execution_count": 40,
   "metadata": {},
   "outputs": [],
   "source": [
    "df['Popularity'] = df['Popularity'].astype(int) #Mengubah ke integer"
   ]
  },
  {
   "cell_type": "code",
   "execution_count": 41,
   "metadata": {},
   "outputs": [
    {
     "name": "stdout",
     "output_type": "stream",
     "text": [
      "<class 'pandas.core.frame.DataFrame'>\n",
      "Index: 126 entries, 2022-03-27 to 2024-08-18\n",
      "Data columns (total 1 columns):\n",
      " #   Column      Non-Null Count  Dtype\n",
      "---  ------      --------------  -----\n",
      " 0   Popularity  126 non-null    int64\n",
      "dtypes: int64(1)\n",
      "memory usage: 2.0+ KB\n"
     ]
    }
   ],
   "source": [
    "df.info()"
   ]
  },
  {
   "cell_type": "markdown",
   "metadata": {},
   "source": [
    "Selanjutnya melihat apakah ada data mingguan yang tidak terisi atau terlewat"
   ]
  },
  {
   "cell_type": "code",
   "execution_count": 43,
   "metadata": {},
   "outputs": [
    {
     "name": "stdout",
     "output_type": "stream",
     "text": [
      "W-SUN\n"
     ]
    }
   ],
   "source": [
    "frequency = pd.infer_freq(df.index)\n",
    "print(frequency)"
   ]
  },
  {
   "cell_type": "markdown",
   "metadata": {},
   "source": [
    "Tidak ada data yang null, dan untuk frekuensinya itu mingguan. Selanjutnya melihat visualisasi data untuk melihat apakah data additive atau multiplicative"
   ]
  },
  {
   "cell_type": "code",
   "execution_count": 46,
   "metadata": {},
   "outputs": [
    {
     "data": {
      "application/vnd.plotly.v1+json": {
       "config": {
        "plotlyServerURL": "https://plot.ly"
       },
       "data": [
        {
         "hovertemplate": "index=%{x}<br>Popularity=%{y}<extra></extra>",
         "legendgroup": "",
         "line": {
          "color": "#636efa",
          "dash": "solid"
         },
         "marker": {
          "symbol": "circle"
         },
         "mode": "lines",
         "name": "",
         "orientation": "v",
         "showlegend": false,
         "type": "scatter",
         "x": [
          "2022-03-27",
          "2022-04-03",
          "2022-04-10",
          "2022-04-17",
          "2022-04-24",
          "2022-05-01",
          "2022-05-08",
          "2022-05-15",
          "2022-05-22",
          "2022-05-29",
          "2022-06-05",
          "2022-06-12",
          "2022-06-19",
          "2022-06-26",
          "2022-07-03",
          "2022-07-10",
          "2022-07-17",
          "2022-07-24",
          "2022-07-31",
          "2022-08-07",
          "2022-08-14",
          "2022-08-21",
          "2022-08-28",
          "2022-09-04",
          "2022-09-11",
          "2022-09-18",
          "2022-09-25",
          "2022-10-02",
          "2022-10-09",
          "2022-10-16",
          "2022-10-23",
          "2022-10-30",
          "2022-11-06",
          "2022-11-13",
          "2022-11-20",
          "2022-11-27",
          "2022-12-04",
          "2022-12-11",
          "2022-12-18",
          "2022-12-25",
          "2023-01-01",
          "2023-01-08",
          "2023-01-15",
          "2023-01-22",
          "2023-01-29",
          "2023-02-05",
          "2023-02-12",
          "2023-02-19",
          "2023-02-26",
          "2023-03-05",
          "2023-03-12",
          "2023-03-19",
          "2023-03-26",
          "2023-04-02",
          "2023-04-09",
          "2023-04-16",
          "2023-04-23",
          "2023-04-30",
          "2023-05-07",
          "2023-05-14",
          "2023-05-21",
          "2023-05-28",
          "2023-06-04",
          "2023-06-11",
          "2023-06-18",
          "2023-06-25",
          "2023-07-02",
          "2023-07-09",
          "2023-07-16",
          "2023-07-23",
          "2023-07-30",
          "2023-08-06",
          "2023-08-13",
          "2023-08-20",
          "2023-08-27",
          "2023-09-03",
          "2023-09-10",
          "2023-09-17",
          "2023-09-24",
          "2023-10-01",
          "2023-10-08",
          "2023-10-15",
          "2023-10-22",
          "2023-10-29",
          "2023-11-05",
          "2023-11-12",
          "2023-11-19",
          "2023-11-26",
          "2023-12-03",
          "2023-12-10",
          "2023-12-17",
          "2023-12-24",
          "2023-12-31",
          "2024-01-07",
          "2024-01-14",
          "2024-01-21",
          "2024-01-28",
          "2024-02-04",
          "2024-02-11",
          "2024-02-18",
          "2024-02-25",
          "2024-03-03",
          "2024-03-10",
          "2024-03-17",
          "2024-03-24",
          "2024-03-31",
          "2024-04-07",
          "2024-04-14",
          "2024-04-21",
          "2024-04-28",
          "2024-05-05",
          "2024-05-12",
          "2024-05-19",
          "2024-05-26",
          "2024-06-02",
          "2024-06-09",
          "2024-06-16",
          "2024-06-23",
          "2024-06-30",
          "2024-07-07",
          "2024-07-14",
          "2024-07-21",
          "2024-07-28",
          "2024-08-04",
          "2024-08-11",
          "2024-08-18"
         ],
         "xaxis": "x",
         "y": [
          16,
          13,
          18,
          29,
          35,
          95,
          62,
          47,
          35,
          32,
          35,
          25,
          32,
          34,
          38,
          30,
          33,
          41,
          26,
          29,
          31,
          28,
          27,
          24,
          24,
          26,
          28,
          26,
          20,
          15,
          18,
          20,
          20,
          30,
          20,
          21,
          17,
          20,
          21,
          20,
          19,
          17,
          30,
          23,
          26,
          22,
          22,
          21,
          21,
          16,
          19,
          22,
          23,
          18,
          31,
          51,
          100,
          61,
          42,
          38,
          46,
          56,
          47,
          40,
          43,
          45,
          38,
          31,
          23,
          32,
          26,
          27,
          28,
          29,
          29,
          23,
          32,
          24,
          29,
          29,
          28,
          18,
          24,
          26,
          28,
          26,
          28,
          22,
          13,
          25,
          48,
          62,
          50,
          29,
          25,
          33,
          26,
          37,
          28,
          28,
          23,
          27,
          20,
          21,
          25,
          23,
          59,
          64,
          46,
          37,
          47,
          36,
          49,
          36,
          39,
          30,
          40,
          45,
          54,
          33,
          40,
          43,
          34,
          32,
          36,
          29
         ],
         "yaxis": "y"
        }
       ],
       "layout": {
        "legend": {
         "tracegroupgap": 0
        },
        "template": {
         "data": {
          "bar": [
           {
            "error_x": {
             "color": "#2a3f5f"
            },
            "error_y": {
             "color": "#2a3f5f"
            },
            "marker": {
             "line": {
              "color": "#E5ECF6",
              "width": 0.5
             },
             "pattern": {
              "fillmode": "overlay",
              "size": 10,
              "solidity": 0.2
             }
            },
            "type": "bar"
           }
          ],
          "barpolar": [
           {
            "marker": {
             "line": {
              "color": "#E5ECF6",
              "width": 0.5
             },
             "pattern": {
              "fillmode": "overlay",
              "size": 10,
              "solidity": 0.2
             }
            },
            "type": "barpolar"
           }
          ],
          "carpet": [
           {
            "aaxis": {
             "endlinecolor": "#2a3f5f",
             "gridcolor": "white",
             "linecolor": "white",
             "minorgridcolor": "white",
             "startlinecolor": "#2a3f5f"
            },
            "baxis": {
             "endlinecolor": "#2a3f5f",
             "gridcolor": "white",
             "linecolor": "white",
             "minorgridcolor": "white",
             "startlinecolor": "#2a3f5f"
            },
            "type": "carpet"
           }
          ],
          "choropleth": [
           {
            "colorbar": {
             "outlinewidth": 0,
             "ticks": ""
            },
            "type": "choropleth"
           }
          ],
          "contour": [
           {
            "colorbar": {
             "outlinewidth": 0,
             "ticks": ""
            },
            "colorscale": [
             [
              0,
              "#0d0887"
             ],
             [
              0.1111111111111111,
              "#46039f"
             ],
             [
              0.2222222222222222,
              "#7201a8"
             ],
             [
              0.3333333333333333,
              "#9c179e"
             ],
             [
              0.4444444444444444,
              "#bd3786"
             ],
             [
              0.5555555555555556,
              "#d8576b"
             ],
             [
              0.6666666666666666,
              "#ed7953"
             ],
             [
              0.7777777777777778,
              "#fb9f3a"
             ],
             [
              0.8888888888888888,
              "#fdca26"
             ],
             [
              1,
              "#f0f921"
             ]
            ],
            "type": "contour"
           }
          ],
          "contourcarpet": [
           {
            "colorbar": {
             "outlinewidth": 0,
             "ticks": ""
            },
            "type": "contourcarpet"
           }
          ],
          "heatmap": [
           {
            "colorbar": {
             "outlinewidth": 0,
             "ticks": ""
            },
            "colorscale": [
             [
              0,
              "#0d0887"
             ],
             [
              0.1111111111111111,
              "#46039f"
             ],
             [
              0.2222222222222222,
              "#7201a8"
             ],
             [
              0.3333333333333333,
              "#9c179e"
             ],
             [
              0.4444444444444444,
              "#bd3786"
             ],
             [
              0.5555555555555556,
              "#d8576b"
             ],
             [
              0.6666666666666666,
              "#ed7953"
             ],
             [
              0.7777777777777778,
              "#fb9f3a"
             ],
             [
              0.8888888888888888,
              "#fdca26"
             ],
             [
              1,
              "#f0f921"
             ]
            ],
            "type": "heatmap"
           }
          ],
          "heatmapgl": [
           {
            "colorbar": {
             "outlinewidth": 0,
             "ticks": ""
            },
            "colorscale": [
             [
              0,
              "#0d0887"
             ],
             [
              0.1111111111111111,
              "#46039f"
             ],
             [
              0.2222222222222222,
              "#7201a8"
             ],
             [
              0.3333333333333333,
              "#9c179e"
             ],
             [
              0.4444444444444444,
              "#bd3786"
             ],
             [
              0.5555555555555556,
              "#d8576b"
             ],
             [
              0.6666666666666666,
              "#ed7953"
             ],
             [
              0.7777777777777778,
              "#fb9f3a"
             ],
             [
              0.8888888888888888,
              "#fdca26"
             ],
             [
              1,
              "#f0f921"
             ]
            ],
            "type": "heatmapgl"
           }
          ],
          "histogram": [
           {
            "marker": {
             "pattern": {
              "fillmode": "overlay",
              "size": 10,
              "solidity": 0.2
             }
            },
            "type": "histogram"
           }
          ],
          "histogram2d": [
           {
            "colorbar": {
             "outlinewidth": 0,
             "ticks": ""
            },
            "colorscale": [
             [
              0,
              "#0d0887"
             ],
             [
              0.1111111111111111,
              "#46039f"
             ],
             [
              0.2222222222222222,
              "#7201a8"
             ],
             [
              0.3333333333333333,
              "#9c179e"
             ],
             [
              0.4444444444444444,
              "#bd3786"
             ],
             [
              0.5555555555555556,
              "#d8576b"
             ],
             [
              0.6666666666666666,
              "#ed7953"
             ],
             [
              0.7777777777777778,
              "#fb9f3a"
             ],
             [
              0.8888888888888888,
              "#fdca26"
             ],
             [
              1,
              "#f0f921"
             ]
            ],
            "type": "histogram2d"
           }
          ],
          "histogram2dcontour": [
           {
            "colorbar": {
             "outlinewidth": 0,
             "ticks": ""
            },
            "colorscale": [
             [
              0,
              "#0d0887"
             ],
             [
              0.1111111111111111,
              "#46039f"
             ],
             [
              0.2222222222222222,
              "#7201a8"
             ],
             [
              0.3333333333333333,
              "#9c179e"
             ],
             [
              0.4444444444444444,
              "#bd3786"
             ],
             [
              0.5555555555555556,
              "#d8576b"
             ],
             [
              0.6666666666666666,
              "#ed7953"
             ],
             [
              0.7777777777777778,
              "#fb9f3a"
             ],
             [
              0.8888888888888888,
              "#fdca26"
             ],
             [
              1,
              "#f0f921"
             ]
            ],
            "type": "histogram2dcontour"
           }
          ],
          "mesh3d": [
           {
            "colorbar": {
             "outlinewidth": 0,
             "ticks": ""
            },
            "type": "mesh3d"
           }
          ],
          "parcoords": [
           {
            "line": {
             "colorbar": {
              "outlinewidth": 0,
              "ticks": ""
             }
            },
            "type": "parcoords"
           }
          ],
          "pie": [
           {
            "automargin": true,
            "type": "pie"
           }
          ],
          "scatter": [
           {
            "fillpattern": {
             "fillmode": "overlay",
             "size": 10,
             "solidity": 0.2
            },
            "type": "scatter"
           }
          ],
          "scatter3d": [
           {
            "line": {
             "colorbar": {
              "outlinewidth": 0,
              "ticks": ""
             }
            },
            "marker": {
             "colorbar": {
              "outlinewidth": 0,
              "ticks": ""
             }
            },
            "type": "scatter3d"
           }
          ],
          "scattercarpet": [
           {
            "marker": {
             "colorbar": {
              "outlinewidth": 0,
              "ticks": ""
             }
            },
            "type": "scattercarpet"
           }
          ],
          "scattergeo": [
           {
            "marker": {
             "colorbar": {
              "outlinewidth": 0,
              "ticks": ""
             }
            },
            "type": "scattergeo"
           }
          ],
          "scattergl": [
           {
            "marker": {
             "colorbar": {
              "outlinewidth": 0,
              "ticks": ""
             }
            },
            "type": "scattergl"
           }
          ],
          "scattermapbox": [
           {
            "marker": {
             "colorbar": {
              "outlinewidth": 0,
              "ticks": ""
             }
            },
            "type": "scattermapbox"
           }
          ],
          "scatterpolar": [
           {
            "marker": {
             "colorbar": {
              "outlinewidth": 0,
              "ticks": ""
             }
            },
            "type": "scatterpolar"
           }
          ],
          "scatterpolargl": [
           {
            "marker": {
             "colorbar": {
              "outlinewidth": 0,
              "ticks": ""
             }
            },
            "type": "scatterpolargl"
           }
          ],
          "scatterternary": [
           {
            "marker": {
             "colorbar": {
              "outlinewidth": 0,
              "ticks": ""
             }
            },
            "type": "scatterternary"
           }
          ],
          "surface": [
           {
            "colorbar": {
             "outlinewidth": 0,
             "ticks": ""
            },
            "colorscale": [
             [
              0,
              "#0d0887"
             ],
             [
              0.1111111111111111,
              "#46039f"
             ],
             [
              0.2222222222222222,
              "#7201a8"
             ],
             [
              0.3333333333333333,
              "#9c179e"
             ],
             [
              0.4444444444444444,
              "#bd3786"
             ],
             [
              0.5555555555555556,
              "#d8576b"
             ],
             [
              0.6666666666666666,
              "#ed7953"
             ],
             [
              0.7777777777777778,
              "#fb9f3a"
             ],
             [
              0.8888888888888888,
              "#fdca26"
             ],
             [
              1,
              "#f0f921"
             ]
            ],
            "type": "surface"
           }
          ],
          "table": [
           {
            "cells": {
             "fill": {
              "color": "#EBF0F8"
             },
             "line": {
              "color": "white"
             }
            },
            "header": {
             "fill": {
              "color": "#C8D4E3"
             },
             "line": {
              "color": "white"
             }
            },
            "type": "table"
           }
          ]
         },
         "layout": {
          "annotationdefaults": {
           "arrowcolor": "#2a3f5f",
           "arrowhead": 0,
           "arrowwidth": 1
          },
          "autotypenumbers": "strict",
          "coloraxis": {
           "colorbar": {
            "outlinewidth": 0,
            "ticks": ""
           }
          },
          "colorscale": {
           "diverging": [
            [
             0,
             "#8e0152"
            ],
            [
             0.1,
             "#c51b7d"
            ],
            [
             0.2,
             "#de77ae"
            ],
            [
             0.3,
             "#f1b6da"
            ],
            [
             0.4,
             "#fde0ef"
            ],
            [
             0.5,
             "#f7f7f7"
            ],
            [
             0.6,
             "#e6f5d0"
            ],
            [
             0.7,
             "#b8e186"
            ],
            [
             0.8,
             "#7fbc41"
            ],
            [
             0.9,
             "#4d9221"
            ],
            [
             1,
             "#276419"
            ]
           ],
           "sequential": [
            [
             0,
             "#0d0887"
            ],
            [
             0.1111111111111111,
             "#46039f"
            ],
            [
             0.2222222222222222,
             "#7201a8"
            ],
            [
             0.3333333333333333,
             "#9c179e"
            ],
            [
             0.4444444444444444,
             "#bd3786"
            ],
            [
             0.5555555555555556,
             "#d8576b"
            ],
            [
             0.6666666666666666,
             "#ed7953"
            ],
            [
             0.7777777777777778,
             "#fb9f3a"
            ],
            [
             0.8888888888888888,
             "#fdca26"
            ],
            [
             1,
             "#f0f921"
            ]
           ],
           "sequentialminus": [
            [
             0,
             "#0d0887"
            ],
            [
             0.1111111111111111,
             "#46039f"
            ],
            [
             0.2222222222222222,
             "#7201a8"
            ],
            [
             0.3333333333333333,
             "#9c179e"
            ],
            [
             0.4444444444444444,
             "#bd3786"
            ],
            [
             0.5555555555555556,
             "#d8576b"
            ],
            [
             0.6666666666666666,
             "#ed7953"
            ],
            [
             0.7777777777777778,
             "#fb9f3a"
            ],
            [
             0.8888888888888888,
             "#fdca26"
            ],
            [
             1,
             "#f0f921"
            ]
           ]
          },
          "colorway": [
           "#636efa",
           "#EF553B",
           "#00cc96",
           "#ab63fa",
           "#FFA15A",
           "#19d3f3",
           "#FF6692",
           "#B6E880",
           "#FF97FF",
           "#FECB52"
          ],
          "font": {
           "color": "#2a3f5f"
          },
          "geo": {
           "bgcolor": "white",
           "lakecolor": "white",
           "landcolor": "#E5ECF6",
           "showlakes": true,
           "showland": true,
           "subunitcolor": "white"
          },
          "hoverlabel": {
           "align": "left"
          },
          "hovermode": "closest",
          "mapbox": {
           "style": "light"
          },
          "paper_bgcolor": "white",
          "plot_bgcolor": "#E5ECF6",
          "polar": {
           "angularaxis": {
            "gridcolor": "white",
            "linecolor": "white",
            "ticks": ""
           },
           "bgcolor": "#E5ECF6",
           "radialaxis": {
            "gridcolor": "white",
            "linecolor": "white",
            "ticks": ""
           }
          },
          "scene": {
           "xaxis": {
            "backgroundcolor": "#E5ECF6",
            "gridcolor": "white",
            "gridwidth": 2,
            "linecolor": "white",
            "showbackground": true,
            "ticks": "",
            "zerolinecolor": "white"
           },
           "yaxis": {
            "backgroundcolor": "#E5ECF6",
            "gridcolor": "white",
            "gridwidth": 2,
            "linecolor": "white",
            "showbackground": true,
            "ticks": "",
            "zerolinecolor": "white"
           },
           "zaxis": {
            "backgroundcolor": "#E5ECF6",
            "gridcolor": "white",
            "gridwidth": 2,
            "linecolor": "white",
            "showbackground": true,
            "ticks": "",
            "zerolinecolor": "white"
           }
          },
          "shapedefaults": {
           "line": {
            "color": "#2a3f5f"
           }
          },
          "ternary": {
           "aaxis": {
            "gridcolor": "white",
            "linecolor": "white",
            "ticks": ""
           },
           "baxis": {
            "gridcolor": "white",
            "linecolor": "white",
            "ticks": ""
           },
           "bgcolor": "#E5ECF6",
           "caxis": {
            "gridcolor": "white",
            "linecolor": "white",
            "ticks": ""
           }
          },
          "title": {
           "x": 0.05
          },
          "xaxis": {
           "automargin": true,
           "gridcolor": "white",
           "linecolor": "white",
           "ticks": "",
           "title": {
            "standoff": 15
           },
           "zerolinecolor": "white",
           "zerolinewidth": 2
          },
          "yaxis": {
           "automargin": true,
           "gridcolor": "white",
           "linecolor": "white",
           "ticks": "",
           "title": {
            "standoff": 15
           },
           "zerolinecolor": "white",
           "zerolinewidth": 2
          }
         }
        },
        "title": {
         "text": "Total Popularity Pari Island"
        },
        "xaxis": {
         "anchor": "y",
         "domain": [
          0,
          1
         ],
         "title": {
          "text": "index"
         }
        },
        "yaxis": {
         "anchor": "x",
         "domain": [
          0,
          1
         ],
         "title": {
          "text": "Popularity"
         }
        }
       }
      }
     },
     "metadata": {},
     "output_type": "display_data"
    }
   ],
   "source": [
    "fig = px.line(df, x=df.index, y=\"Popularity\", title='Total Popularity Pari Island')\n",
    "fig.show()"
   ]
  },
  {
   "cell_type": "markdown",
   "metadata": {},
   "source": [
    "Berdasarkan grafik tersebut, dapat dilihat bahwa secara tren mengalami penurunan dan penaikan yang signifikan pada setiap gelombang yang menunjukan bahwa data tersebut merupakan multiplicative. Dari data tersebut, terjadi 5 penaikan yang siginifikan yaitu pada 1 May 2022, 23 April 2023, 24 Desember 2023, 14 April 2024, dan 30 Jun 2024. Kenaikan angka terebut disebabkan karena hari libur yang membuat orang ingin mencari tahu mau liburan kemana"
   ]
  },
  {
   "cell_type": "markdown",
   "metadata": {},
   "source": [
    "Selanjutnya melakukan Time Series Decomposition"
   ]
  },
  {
   "cell_type": "markdown",
   "metadata": {},
   "source": [
    "## Time Series Decomposition"
   ]
  },
  {
   "cell_type": "code",
   "execution_count": 47,
   "metadata": {},
   "outputs": [
    {
     "data": {
      "image/png": "[encoded data removed]",
      "text/plain": [
       "<Figure size 1400x900 with 4 Axes>"
      ]
     },
     "metadata": {},
     "output_type": "display_data"
    }
   ],
   "source": [
    "pylab.rcParams['figure.figsize'] = (14, 9)\n",
    "res = seasonal_decompose(df, model='multiplicative', period=52)\n",
    "ax=res.plot()\n",
    "plt.show()"
   ]
  },
  {
   "cell_type": "markdown",
   "metadata": {},
   "source": [
    "Untuk period saya memakai 52 karena ingin melihat pola mingguan dalam tahunan pada data tersebut yang berarti dalam satu tahun ada 52 minggu. Berdasarkan gambar tersebut :\n",
    "- Untuk tren dari tahun 2022 hingga 2024 mengalami peningkatan sebanyak 5 kali secara signifikan, dan untuk penurunannya tidak terlalu signifikan sehigga tidak terlalu terlihat.\n",
    "- Untuk seasonal, terjadi beberapa peningkatan dalam waktu tertentu, dilihat dari visualisasi data sebelumnya, terjadi 5 penaikan yang siginifikan yaitu pada 1 May 2022, 23 April 2023 , 24 Desember 2023, 14 April 2024, dan 30 Juni 2024. Jika dilihat dari tanggal tersebut, tanggal tersebut merupakan tanggal merah atau tanggal dimana waktu liburan sehingga banyak orang yang ingin mencari tahu informasi tentang lokasi pariwisata.\n",
    "- Untuk residu memiliki variansi yang tinggi karena beberapa titik titik di awal dan diakhir tidak saling berdekatan.\n",
    "\n",
    "Selanjutnya melakukan splitting data"
   ]
  },
  {
   "cell_type": "markdown",
   "metadata": {},
   "source": [
    "## Splitting Data"
   ]
  },
  {
   "cell_type": "code",
   "execution_count": 51,
   "metadata": {},
   "outputs": [
    {
     "name": "stdout",
     "output_type": "stream",
     "text": [
      "Train size :  (100, 1)\n",
      "Test size :  (26, 1)\n"
     ]
    }
   ],
   "source": [
    "train = df[:100]\n",
    "test = df[100:]\n",
    "\n",
    "print('Train size : ', train.shape)\n",
    "print('Test size : ', test.shape)"
   ]
  },
  {
   "cell_type": "markdown",
   "metadata": {},
   "source": [
    "Jumlah data train 100 dan test 26. Selanjutnya melihat stationarity dengan menggunakan ADF"
   ]
  },
  {
   "cell_type": "code",
   "execution_count": 52,
   "metadata": {},
   "outputs": [],
   "source": [
    "def check_stationarity(series):\n",
    "    result = adfuller(series.values)\n",
    "\n",
    "    print('ADF Statistic: %f' % result[0])\n",
    "    print('p-value: %f' % result[1])\n",
    "    print('Critical Values:')\n",
    "    for key, value in result[4].items():\n",
    "        print('\\t%s: %.3f' % (key, value))\n",
    "\n",
    "    if (result[1] <= 0.05) & (result[4]['5%'] > result[0]):\n",
    "        print(\"\\u001b[32mStationary\\u001b[0m\")\n",
    "    else:\n",
    "        print(\"\\x1b[31mNon-stationary\\x1b[0m\")"
   ]
  },
  {
   "cell_type": "code",
   "execution_count": 53,
   "metadata": {},
   "outputs": [
    {
     "name": "stdout",
     "output_type": "stream",
     "text": [
      "ADF Statistic: -3.470815\n",
      "p-value: 0.008769\n",
      "Critical Values:\n",
      "\t1%: -3.500\n",
      "\t5%: -2.892\n",
      "\t10%: -2.583\n",
      "\u001b[32mStationary\u001b[0m\n"
     ]
    }
   ],
   "source": [
    "check_stationarity(train['Popularity'])"
   ]
  },
  {
   "cell_type": "markdown",
   "metadata": {},
   "source": [
    "Data tersebut sudah stationer tanpa dilakukan differencing yang menunjukan bahwa pola pada data tersebut stabil. Selanjutnya melihat ACF dan PACF"
   ]
  },
  {
   "cell_type": "markdown",
   "metadata": {},
   "source": [
    "## ACF & PACF"
   ]
  },
  {
   "cell_type": "code",
   "execution_count": 55,
   "metadata": {},
   "outputs": [
    {
     "data": {
      "image/png": "[encoded data removed]",
      "text/plain": [
       "<Figure size 1400x900 with 1 Axes>"
      ]
     },
     "metadata": {},
     "output_type": "display_data"
    },
    {
     "data": {
      "image/png": "[encoded data removed]",
      "text/plain": [
       "<Figure size 1400x900 with 1 Axes>"
      ]
     },
     "metadata": {},
     "output_type": "display_data"
    }
   ],
   "source": [
    "# Plot ACF & PACF\n",
    "plot_acf(train['Popularity'])\n",
    "plot_pacf(train['Popularity'])\n",
    "plt.show()"
   ]
  },
  {
   "cell_type": "markdown",
   "metadata": {},
   "source": [
    "- Untuk ACF (q) cut off di 1 dan 2. Setelahnya berada di confidence treshold.\n",
    "- Untuk PACF (p) cut off di 1 dan setelahnya berada di confidence treshold.\n",
    "- Sebelumnya tidak menggunakan differencing makan d nya adalah 0\n",
    "\n",
    "Sehingga bisa dicoba menggunakan model (1,0,1) dan (1,0,2).\n",
    "\n",
    "Selanjutnya mencari model mana yang optimal"
   ]
  },
  {
   "cell_type": "markdown",
   "metadata": {},
   "source": [
    "## Find Best Model"
   ]
  },
  {
   "cell_type": "code",
   "execution_count": 56,
   "metadata": {},
   "outputs": [],
   "source": [
    "# Create a function to find best model\n",
    "\n",
    "def find_best_model(data, num_p, num_d, num_q):\n",
    "  df = pd.DataFrame() #We make a pandas dataframe to ease our work, you can use any way that makes you comfortable and work easly\n",
    "  pdq = [[],[],[]] #This list for storing the combinations of p and q\n",
    "  aic = [] # This list for storing aic value\n",
    "  for p in range(num_p + 1): #plus one is to make the range up to num_p since python range only ranging from 0 to N-1\n",
    "    for d in range(num_d + 1):\n",
    "      for q in range(num_q + 1):\n",
    "        # #if p!=0 and q!=0: #this logic will avoid (0,0) value which is not correct\n",
    "        try: #Using exception to avoid the error while training the model with certain p and q value\n",
    "          model = ARIMA(data, order=(p, d, q))\n",
    "          result = model.fit()\n",
    "          pdq[0].append(p)\n",
    "          pdq[1].append(d)\n",
    "          pdq[2].append(q)\n",
    "          aic.append(result.aic)\n",
    "        except:\n",
    "          pass #If there is an error caused by the calculation, it will be skipped to the next iteration\n",
    "\n",
    "  df['p'] = pdq[0]\n",
    "  df['d'] = pdq[1]\n",
    "  df['q'] = pdq[2]\n",
    "  df['AIC'] = aic\n",
    "\n",
    "  df.sort_values('AIC', inplace=True)\n",
    "\n",
    "  return df.p.iloc[0], df.d.iloc[0], df.q.iloc[0], df.AIC.iloc[0], df"
   ]
  },
  {
   "cell_type": "code",
   "execution_count": 58,
   "metadata": {},
   "outputs": [
    {
     "name": "stderr",
     "output_type": "stream",
     "text": [
      "/opt/anaconda3/lib/python3.12/site-packages/statsmodels/tsa/base/tsa_model.py:473: ValueWarning:\n",
      "\n",
      "No frequency information was provided, so inferred frequency W-SUN will be used.\n",
      "\n",
      "/opt/anaconda3/lib/python3.12/site-packages/statsmodels/tsa/base/tsa_model.py:473: ValueWarning:\n",
      "\n",
      "No frequency information was provided, so inferred frequency W-SUN will be used.\n",
      "\n",
      "/opt/anaconda3/lib/python3.12/site-packages/statsmodels/tsa/base/tsa_model.py:473: ValueWarning:\n",
      "\n",
      "No frequency information was provided, so inferred frequency W-SUN will be used.\n",
      "\n",
      "/opt/anaconda3/lib/python3.12/site-packages/statsmodels/tsa/base/tsa_model.py:473: ValueWarning:\n",
      "\n",
      "No frequency information was provided, so inferred frequency W-SUN will be used.\n",
      "\n",
      "/opt/anaconda3/lib/python3.12/site-packages/statsmodels/tsa/base/tsa_model.py:473: ValueWarning:\n",
      "\n",
      "No frequency information was provided, so inferred frequency W-SUN will be used.\n",
      "\n",
      "/opt/anaconda3/lib/python3.12/site-packages/statsmodels/tsa/base/tsa_model.py:473: ValueWarning:\n",
      "\n",
      "No frequency information was provided, so inferred frequency W-SUN will be used.\n",
      "\n",
      "/opt/anaconda3/lib/python3.12/site-packages/statsmodels/tsa/base/tsa_model.py:473: ValueWarning:\n",
      "\n",
      "No frequency information was provided, so inferred frequency W-SUN will be used.\n",
      "\n",
      "/opt/anaconda3/lib/python3.12/site-packages/statsmodels/tsa/base/tsa_model.py:473: ValueWarning:\n",
      "\n",
      "No frequency information was provided, so inferred frequency W-SUN will be used.\n",
      "\n",
      "/opt/anaconda3/lib/python3.12/site-packages/statsmodels/tsa/base/tsa_model.py:473: ValueWarning:\n",
      "\n",
      "No frequency information was provided, so inferred frequency W-SUN will be used.\n",
      "\n",
      "/opt/anaconda3/lib/python3.12/site-packages/statsmodels/tsa/base/tsa_model.py:473: ValueWarning:\n",
      "\n",
      "No frequency information was provided, so inferred frequency W-SUN will be used.\n",
      "\n",
      "/opt/anaconda3/lib/python3.12/site-packages/statsmodels/tsa/base/tsa_model.py:473: ValueWarning:\n",
      "\n",
      "No frequency information was provided, so inferred frequency W-SUN will be used.\n",
      "\n",
      "/opt/anaconda3/lib/python3.12/site-packages/statsmodels/tsa/base/tsa_model.py:473: ValueWarning:\n",
      "\n",
      "No frequency information was provided, so inferred frequency W-SUN will be used.\n",
      "\n",
      "/opt/anaconda3/lib/python3.12/site-packages/statsmodels/tsa/base/tsa_model.py:473: ValueWarning:\n",
      "\n",
      "No frequency information was provided, so inferred frequency W-SUN will be used.\n",
      "\n",
      "/opt/anaconda3/lib/python3.12/site-packages/statsmodels/tsa/base/tsa_model.py:473: ValueWarning:\n",
      "\n",
      "No frequency information was provided, so inferred frequency W-SUN will be used.\n",
      "\n",
      "/opt/anaconda3/lib/python3.12/site-packages/statsmodels/tsa/base/tsa_model.py:473: ValueWarning:\n",
      "\n",
      "No frequency information was provided, so inferred frequency W-SUN will be used.\n",
      "\n",
      "/opt/anaconda3/lib/python3.12/site-packages/statsmodels/tsa/base/tsa_model.py:473: ValueWarning:\n",
      "\n",
      "No frequency information was provided, so inferred frequency W-SUN will be used.\n",
      "\n",
      "/opt/anaconda3/lib/python3.12/site-packages/statsmodels/tsa/base/tsa_model.py:473: ValueWarning:\n",
      "\n",
      "No frequency information was provided, so inferred frequency W-SUN will be used.\n",
      "\n",
      "/opt/anaconda3/lib/python3.12/site-packages/statsmodels/tsa/base/tsa_model.py:473: ValueWarning:\n",
      "\n",
      "No frequency information was provided, so inferred frequency W-SUN will be used.\n",
      "\n"
     ]
    },
    {
     "data": {
      "text/plain": [
       "(0,\n",
       " 0,\n",
       " 2,\n",
       " 765.5537411307513,\n",
       "    p  d  q         AIC\n",
       " 2  0  0  2  765.553741\n",
       " 3  1  0  0  766.706935\n",
       " 5  1  0  2  766.722890\n",
       " 4  1  0  1  767.399345\n",
       " 1  0  0  1  779.207928\n",
       " 0  0  0  0  817.754552)"
      ]
     },
     "execution_count": 58,
     "metadata": {},
     "output_type": "execute_result"
    }
   ],
   "source": [
    "# Find best model of ARIMA with combinations of p=1, d=0, q=2\n",
    "find_best_model(train['Popularity'], 1, 0, 2) "
   ]
  },
  {
   "cell_type": "markdown",
   "metadata": {},
   "source": [
    "Dari hasil pencarian model yang optimal tersebut, yang memiliki nilai AIC paling kecil adalah 0,0,2. Sedangkan jika ingin menggunakan ARIMA dan SARIMA membutuhkan AR atau p dan MA atau q. Jika dilihat lagi, yang paling sesuai adalah 1,0,2 karena memiliki nilai yang terkecil dibanding 1,0,1"
   ]
  },
  {
   "cell_type": "markdown",
   "metadata": {},
   "source": [
    "Setelah itu mendefine model dengan parameter 1,0,2"
   ]
  },
  {
   "cell_type": "markdown",
   "metadata": {},
   "source": [
    "# BAB 5 - Model Definition and Training"
   ]
  },
  {
   "cell_type": "code",
   "execution_count": 59,
   "metadata": {},
   "outputs": [
    {
     "name": "stderr",
     "output_type": "stream",
     "text": [
      "/opt/anaconda3/lib/python3.12/site-packages/statsmodels/tsa/base/tsa_model.py:473: ValueWarning:\n",
      "\n",
      "No frequency information was provided, so inferred frequency W-SUN will be used.\n",
      "\n",
      "/opt/anaconda3/lib/python3.12/site-packages/statsmodels/tsa/base/tsa_model.py:473: ValueWarning:\n",
      "\n",
      "No frequency information was provided, so inferred frequency W-SUN will be used.\n",
      "\n",
      "/opt/anaconda3/lib/python3.12/site-packages/statsmodels/tsa/base/tsa_model.py:473: ValueWarning:\n",
      "\n",
      "No frequency information was provided, so inferred frequency W-SUN will be used.\n",
      "\n",
      "/opt/anaconda3/lib/python3.12/site-packages/statsmodels/tsa/base/tsa_model.py:473: ValueWarning:\n",
      "\n",
      "No frequency information was provided, so inferred frequency W-SUN will be used.\n",
      "\n",
      "/opt/anaconda3/lib/python3.12/site-packages/statsmodels/tsa/base/tsa_model.py:473: ValueWarning:\n",
      "\n",
      "No frequency information was provided, so inferred frequency W-SUN will be used.\n",
      "\n",
      "/opt/anaconda3/lib/python3.12/site-packages/statsmodels/tsa/statespace/sarimax.py:866: UserWarning:\n",
      "\n",
      "Too few observations to estimate starting parameters for seasonal ARMA. All parameters except for variances will be set to zeros.\n",
      "\n"
     ]
    },
    {
     "name": "stdout",
     "output_type": "stream",
     "text": [
      "RUNNING THE L-BFGS-B CODE\n",
      "\n",
      "           * * *\n",
      "\n",
      "Machine precision = 2.220D-16\n",
      " N =            7     M =           10\n",
      "\n",
      "At X0         0 variables are exactly at the bounds\n",
      "\n",
      "At iterate    0    f=  3.91112D+00    |proj g|=  4.34481D-02\n"
     ]
    },
    {
     "name": "stderr",
     "output_type": "stream",
     "text": [
      " This problem is unconstrained.\n"
     ]
    },
    {
     "name": "stdout",
     "output_type": "stream",
     "text": [
      "\n",
      "At iterate    5    f=  3.87712D+00    |proj g|=  1.17072D-01\n",
      "\n",
      "At iterate   10    f=  3.87008D+00    |proj g|=  7.61657D-03\n",
      "\n",
      "At iterate   15    f=  3.86685D+00    |proj g|=  1.34630D-03\n",
      "\n",
      "At iterate   20    f=  3.86673D+00    |proj g|=  1.93547D-03\n",
      "\n",
      "At iterate   25    f=  3.86581D+00    |proj g|=  6.08982D-03\n",
      "\n",
      "At iterate   30    f=  3.86547D+00    |proj g|=  8.00650D-03\n",
      "\n",
      "At iterate   35    f=  3.86519D+00    |proj g|=  5.49120D-03\n",
      "\n",
      "At iterate   40    f=  3.86504D+00    |proj g|=  3.43431D-03\n",
      "\n",
      "At iterate   45    f=  3.86501D+00    |proj g|=  1.02561D-03\n"
     ]
    },
    {
     "name": "stderr",
     "output_type": "stream",
     "text": [
      "/opt/anaconda3/lib/python3.12/site-packages/statsmodels/base/model.py:607: ConvergenceWarning:\n",
      "\n",
      "Maximum Likelihood optimization failed to converge. Check mle_retvals\n",
      "\n"
     ]
    },
    {
     "name": "stdout",
     "output_type": "stream",
     "text": [
      "\n",
      "At iterate   50    f=  3.86500D+00    |proj g|=  9.46334D-05\n",
      "\n",
      "           * * *\n",
      "\n",
      "Tit   = total number of iterations\n",
      "Tnf   = total number of function evaluations\n",
      "Tnint = total number of segments explored during Cauchy searches\n",
      "Skip  = number of BFGS updates skipped\n",
      "Nact  = number of active bounds at final generalized Cauchy point\n",
      "Projg = norm of the final projected gradient\n",
      "F     = final function value\n",
      "\n",
      "           * * *\n",
      "\n",
      "   N    Tit     Tnf  Tnint  Skip  Nact     Projg        F\n",
      "    7     50     58      1     0     0   9.463D-05   3.865D+00\n",
      "  F =   3.8650015129171100     \n",
      "\n",
      "STOP: TOTAL NO. of ITERATIONS REACHED LIMIT                 \n"
     ]
    }
   ],
   "source": [
    "# Train ARIMA with best combinations\n",
    "\n",
    "model_arima_102 = ARIMA(train['Popularity'], order=(1, 0, 2))\n",
    "result_model_arima_102 = model_arima_102.fit()\n",
    "\n",
    "# Trai Sarima\n",
    "sar=SARIMAX(train['Popularity'], order=(1, 0, 2),seasonal_order=(1, 0, 2, 52)).fit() #Untuk seasonal 52 karena ingin melihat pola mingguan dalam tahun"
   ]
  },
  {
   "cell_type": "markdown",
   "metadata": {},
   "source": [
    "Setelah train model selanjutnya evaluasi"
   ]
  },
  {
   "cell_type": "markdown",
   "metadata": {},
   "source": [
    "# BAB 6 - Model Evaluation"
   ]
  },
  {
   "cell_type": "markdown",
   "metadata": {},
   "source": [
    "Untuk evaluasi disini menggunakan MAE dan MAPE. Alasan menggunakan MAE karena mudah dipahami dan diinterpretasikan dan tidak terlalu sensitif terhadap outlier. Alasan menggunakan MAPE karena mudah dipahami juga dan ingin melihat persentase akurasi dari prediksi"
   ]
  },
  {
   "cell_type": "markdown",
   "metadata": {},
   "source": [
    "### ARIMA"
   ]
  },
  {
   "cell_type": "code",
   "execution_count": 64,
   "metadata": {},
   "outputs": [],
   "source": [
    "pred_train = result_model_arima_102.predict(start=train.index[0], end=train.index[-1])\n",
    "pred_train = pd.DataFrame(pred_train)\n",
    "pred_train.columns = ['Popularity_predict']"
   ]
  },
  {
   "cell_type": "code",
   "execution_count": null,
   "metadata": {},
   "outputs": [
    {
     "name": "stdout",
     "output_type": "stream",
     "text": [
      "MAE train  :  6.69125920627734\n",
      "MAPE train  :  0.21998321483469901\n"
     ]
    }
   ],
   "source": [
    "print('MAE train  : ', mean_absolute_error(train, pred_train))\n",
    "print('MAPE train  : ', mean_absolute_percentage_error(train, pred_train))"
   ]
  },
  {
   "cell_type": "code",
   "execution_count": 70,
   "metadata": {},
   "outputs": [
    {
     "name": "stdout",
     "output_type": "stream",
     "text": [
      "MAE test :  10.07469785796185\n",
      "MAPE test :  0.24973687019083382\n"
     ]
    }
   ],
   "source": [
    "pred_test = result_model_arima_102.predict(start=test.index[0], end=test.index[-1])\n",
    "mae = mean_absolute_error(test, pred_test)\n",
    "mape = mean_absolute_percentage_error(test, pred_test)\n",
    "print('MAE test : ', mae)\n",
    "print('MAPE test : ', mape)"
   ]
  },
  {
   "cell_type": "code",
   "execution_count": 86,
   "metadata": {},
   "outputs": [
    {
     "data": {
      "text/html": [
       "<div>\n",
       "<style scoped>\n",
       "    .dataframe tbody tr th:only-of-type {\n",
       "        vertical-align: middle;\n",
       "    }\n",
       "\n",
       "    .dataframe tbody tr th {\n",
       "        vertical-align: top;\n",
       "    }\n",
       "\n",
       "    .dataframe thead th {\n",
       "        text-align: right;\n",
       "    }\n",
       "</style>\n",
       "<table border=\"1\" class=\"dataframe\">\n",
       "  <thead>\n",
       "    <tr style=\"text-align: right;\">\n",
       "      <th></th>\n",
       "      <th>Popularity</th>\n",
       "      <th>Popularity_predict</th>\n",
       "    </tr>\n",
       "  </thead>\n",
       "  <tbody>\n",
       "    <tr>\n",
       "      <th>2022-03-27</th>\n",
       "      <td>16</td>\n",
       "      <td>30.455419</td>\n",
       "    </tr>\n",
       "    <tr>\n",
       "      <th>2022-04-03</th>\n",
       "      <td>13</td>\n",
       "      <td>21.258165</td>\n",
       "    </tr>\n",
       "    <tr>\n",
       "      <th>2022-04-10</th>\n",
       "      <td>18</td>\n",
       "      <td>19.836995</td>\n",
       "    </tr>\n",
       "    <tr>\n",
       "      <th>2022-04-17</th>\n",
       "      <td>29</td>\n",
       "      <td>24.387654</td>\n",
       "    </tr>\n",
       "    <tr>\n",
       "      <th>2022-04-24</th>\n",
       "      <td>35</td>\n",
       "      <td>32.004378</td>\n",
       "    </tr>\n",
       "    <tr>\n",
       "      <th>...</th>\n",
       "      <td>...</td>\n",
       "      <td>...</td>\n",
       "    </tr>\n",
       "    <tr>\n",
       "      <th>2024-01-21</th>\n",
       "      <td>33</td>\n",
       "      <td>26.309346</td>\n",
       "    </tr>\n",
       "    <tr>\n",
       "      <th>2024-01-28</th>\n",
       "      <td>26</td>\n",
       "      <td>34.714661</td>\n",
       "    </tr>\n",
       "    <tr>\n",
       "      <th>2024-02-04</th>\n",
       "      <td>37</td>\n",
       "      <td>27.249441</td>\n",
       "    </tr>\n",
       "    <tr>\n",
       "      <th>2024-02-11</th>\n",
       "      <td>28</td>\n",
       "      <td>33.923978</td>\n",
       "    </tr>\n",
       "    <tr>\n",
       "      <th>2024-02-18</th>\n",
       "      <td>28</td>\n",
       "      <td>30.179285</td>\n",
       "    </tr>\n",
       "  </tbody>\n",
       "</table>\n",
       "<p>100 rows × 2 columns</p>\n",
       "</div>"
      ],
      "text/plain": [
       "            Popularity  Popularity_predict\n",
       "2022-03-27          16           30.455419\n",
       "2022-04-03          13           21.258165\n",
       "2022-04-10          18           19.836995\n",
       "2022-04-17          29           24.387654\n",
       "2022-04-24          35           32.004378\n",
       "...                ...                 ...\n",
       "2024-01-21          33           26.309346\n",
       "2024-01-28          26           34.714661\n",
       "2024-02-04          37           27.249441\n",
       "2024-02-11          28           33.923978\n",
       "2024-02-18          28           30.179285\n",
       "\n",
       "[100 rows x 2 columns]"
      ]
     },
     "execution_count": 86,
     "metadata": {},
     "output_type": "execute_result"
    }
   ],
   "source": [
    "pred_train = pd.DataFrame(pred_train)\n",
    "pred_train.columns = ['Popularity_predict']\n",
    "\n",
    "## Concate with actual test-set\n",
    "act_vs_pred_sar=pd.concat([train, pred_train], axis=1)\n",
    "act_vs_pred_sar"
   ]
  },
  {
   "cell_type": "code",
   "execution_count": 87,
   "metadata": {},
   "outputs": [
    {
     "data": {
      "text/html": [
       "<div>\n",
       "<style scoped>\n",
       "    .dataframe tbody tr th:only-of-type {\n",
       "        vertical-align: middle;\n",
       "    }\n",
       "\n",
       "    .dataframe tbody tr th {\n",
       "        vertical-align: top;\n",
       "    }\n",
       "\n",
       "    .dataframe thead th {\n",
       "        text-align: right;\n",
       "    }\n",
       "</style>\n",
       "<table border=\"1\" class=\"dataframe\">\n",
       "  <thead>\n",
       "    <tr style=\"text-align: right;\">\n",
       "      <th></th>\n",
       "      <th>Popularity</th>\n",
       "      <th>Total_Ticket_Sold_predict</th>\n",
       "    </tr>\n",
       "  </thead>\n",
       "  <tbody>\n",
       "    <tr>\n",
       "      <th>2024-02-25</th>\n",
       "      <td>23</td>\n",
       "      <td>26.776014</td>\n",
       "    </tr>\n",
       "    <tr>\n",
       "      <th>2024-03-03</th>\n",
       "      <td>27</td>\n",
       "      <td>28.986563</td>\n",
       "    </tr>\n",
       "    <tr>\n",
       "      <th>2024-03-10</th>\n",
       "      <td>20</td>\n",
       "      <td>30.168584</td>\n",
       "    </tr>\n",
       "    <tr>\n",
       "      <th>2024-03-17</th>\n",
       "      <td>21</td>\n",
       "      <td>30.399407</td>\n",
       "    </tr>\n",
       "    <tr>\n",
       "      <th>2024-03-24</th>\n",
       "      <td>25</td>\n",
       "      <td>30.444481</td>\n",
       "    </tr>\n",
       "    <tr>\n",
       "      <th>2024-03-31</th>\n",
       "      <td>23</td>\n",
       "      <td>30.453283</td>\n",
       "    </tr>\n",
       "    <tr>\n",
       "      <th>2024-04-07</th>\n",
       "      <td>59</td>\n",
       "      <td>30.455002</td>\n",
       "    </tr>\n",
       "    <tr>\n",
       "      <th>2024-04-14</th>\n",
       "      <td>64</td>\n",
       "      <td>30.455338</td>\n",
       "    </tr>\n",
       "    <tr>\n",
       "      <th>2024-04-21</th>\n",
       "      <td>46</td>\n",
       "      <td>30.455403</td>\n",
       "    </tr>\n",
       "    <tr>\n",
       "      <th>2024-04-28</th>\n",
       "      <td>37</td>\n",
       "      <td>30.455416</td>\n",
       "    </tr>\n",
       "    <tr>\n",
       "      <th>2024-05-05</th>\n",
       "      <td>47</td>\n",
       "      <td>30.455419</td>\n",
       "    </tr>\n",
       "    <tr>\n",
       "      <th>2024-05-12</th>\n",
       "      <td>36</td>\n",
       "      <td>30.455419</td>\n",
       "    </tr>\n",
       "    <tr>\n",
       "      <th>2024-05-19</th>\n",
       "      <td>49</td>\n",
       "      <td>30.455419</td>\n",
       "    </tr>\n",
       "    <tr>\n",
       "      <th>2024-05-26</th>\n",
       "      <td>36</td>\n",
       "      <td>30.455419</td>\n",
       "    </tr>\n",
       "    <tr>\n",
       "      <th>2024-06-02</th>\n",
       "      <td>39</td>\n",
       "      <td>30.455419</td>\n",
       "    </tr>\n",
       "    <tr>\n",
       "      <th>2024-06-09</th>\n",
       "      <td>30</td>\n",
       "      <td>30.455419</td>\n",
       "    </tr>\n",
       "    <tr>\n",
       "      <th>2024-06-16</th>\n",
       "      <td>40</td>\n",
       "      <td>30.455419</td>\n",
       "    </tr>\n",
       "    <tr>\n",
       "      <th>2024-06-23</th>\n",
       "      <td>45</td>\n",
       "      <td>30.455419</td>\n",
       "    </tr>\n",
       "    <tr>\n",
       "      <th>2024-06-30</th>\n",
       "      <td>54</td>\n",
       "      <td>30.455419</td>\n",
       "    </tr>\n",
       "    <tr>\n",
       "      <th>2024-07-07</th>\n",
       "      <td>33</td>\n",
       "      <td>30.455419</td>\n",
       "    </tr>\n",
       "    <tr>\n",
       "      <th>2024-07-14</th>\n",
       "      <td>40</td>\n",
       "      <td>30.455419</td>\n",
       "    </tr>\n",
       "    <tr>\n",
       "      <th>2024-07-21</th>\n",
       "      <td>43</td>\n",
       "      <td>30.455419</td>\n",
       "    </tr>\n",
       "    <tr>\n",
       "      <th>2024-07-28</th>\n",
       "      <td>34</td>\n",
       "      <td>30.455419</td>\n",
       "    </tr>\n",
       "    <tr>\n",
       "      <th>2024-08-04</th>\n",
       "      <td>32</td>\n",
       "      <td>30.455419</td>\n",
       "    </tr>\n",
       "    <tr>\n",
       "      <th>2024-08-11</th>\n",
       "      <td>36</td>\n",
       "      <td>30.455419</td>\n",
       "    </tr>\n",
       "    <tr>\n",
       "      <th>2024-08-18</th>\n",
       "      <td>29</td>\n",
       "      <td>30.455419</td>\n",
       "    </tr>\n",
       "  </tbody>\n",
       "</table>\n",
       "</div>"
      ],
      "text/plain": [
       "            Popularity  Total_Ticket_Sold_predict\n",
       "2024-02-25          23                  26.776014\n",
       "2024-03-03          27                  28.986563\n",
       "2024-03-10          20                  30.168584\n",
       "2024-03-17          21                  30.399407\n",
       "2024-03-24          25                  30.444481\n",
       "2024-03-31          23                  30.453283\n",
       "2024-04-07          59                  30.455002\n",
       "2024-04-14          64                  30.455338\n",
       "2024-04-21          46                  30.455403\n",
       "2024-04-28          37                  30.455416\n",
       "2024-05-05          47                  30.455419\n",
       "2024-05-12          36                  30.455419\n",
       "2024-05-19          49                  30.455419\n",
       "2024-05-26          36                  30.455419\n",
       "2024-06-02          39                  30.455419\n",
       "2024-06-09          30                  30.455419\n",
       "2024-06-16          40                  30.455419\n",
       "2024-06-23          45                  30.455419\n",
       "2024-06-30          54                  30.455419\n",
       "2024-07-07          33                  30.455419\n",
       "2024-07-14          40                  30.455419\n",
       "2024-07-21          43                  30.455419\n",
       "2024-07-28          34                  30.455419\n",
       "2024-08-04          32                  30.455419\n",
       "2024-08-11          36                  30.455419\n",
       "2024-08-18          29                  30.455419"
      ]
     },
     "execution_count": 87,
     "metadata": {},
     "output_type": "execute_result"
    }
   ],
   "source": [
    "pred_test = pd.DataFrame(pred_test)\n",
    "pred_test.columns = ['Total_Ticket_Sold_predict']\n",
    "\n",
    "## Concate with actual test-set\n",
    "act_vs_pred_sar=pd.concat([test, pred_test], axis=1)\n",
    "act_vs_pred_sar"
   ]
  },
  {
   "cell_type": "markdown",
   "metadata": {},
   "source": [
    "Untuk ARIMA, MAE train adalah 6.69 atau model kurang lebih salam memprediksi popularitas pulau pari sekitar 6 angka. MAPE train menunjukan 0.21 yang artinya prediksi model meleset sebesar 21% dari aktual.\n",
    "\n",
    "Lalu untuk train, MAE menunjukan angka 10 yang artinya model meleset dalam memprediksi sebesar 10 angka dan untuk MAPE menunjukan angka 0.24 yang artinya prediksi model meleset sebesar 24% dari aktual.\n",
    "\n",
    "Selanjutnya melihat visualisasinya"
   ]
  },
  {
   "cell_type": "code",
   "execution_count": 74,
   "metadata": {},
   "outputs": [
    {
     "name": "stdout",
     "output_type": "stream",
     "text": [
      "<class 'pandas.core.indexes.base.Index'>\n"
     ]
    }
   ],
   "source": [
    "print(type(train.index))"
   ]
  },
  {
   "cell_type": "code",
   "execution_count": null,
   "metadata": {},
   "outputs": [],
   "source": [
    "train.index = pd.to_datetime(train.index) #Mengubah index ke datetime\n",
    "test.index = pd.to_datetime(test.index)\n",
    "pred_test.index = pd.to_datetime(pred_test.index)"
   ]
  },
  {
   "cell_type": "code",
   "execution_count": null,
   "metadata": {},
   "outputs": [],
   "source": []
  },
  {
   "cell_type": "code",
   "execution_count": 76,
   "metadata": {},
   "outputs": [
    {
     "data": {
      "image/png": "[encoded data removed]",
      "text/plain": [
       "<Figure size 1400x900 with 1 Axes>"
      ]
     },
     "metadata": {},
     "output_type": "display_data"
    }
   ],
   "source": [
    "plt.plot(train, label = 'train')\n",
    "plt.plot(test, label = 'test')\n",
    "plt.plot(pred_test, color = 'red', label = 'predict')\n",
    "plt.legend()\n",
    "plt.show()"
   ]
  },
  {
   "cell_type": "markdown",
   "metadata": {},
   "source": [
    "Gambar tersebut merupakan prediksi dari data menggunakan ARIMA, terlihat untuk prediksinya itu garis lurus, tidak mengikuti pola musiman.\n",
    "\n",
    "Selanjutnya evaluasi untuk SARIMA"
   ]
  },
  {
   "cell_type": "markdown",
   "metadata": {},
   "source": [
    "### SARIMA"
   ]
  },
  {
   "cell_type": "code",
   "execution_count": 77,
   "metadata": {},
   "outputs": [
    {
     "data": {
      "text/html": [
       "<table class=\"simpletable\">\n",
       "<caption>SARIMAX Results</caption>\n",
       "<tr>\n",
       "  <th>Dep. Variable:</th>             <td>Popularity</td>           <th>  No. Observations:  </th>    <td>100</td>  \n",
       "</tr>\n",
       "<tr>\n",
       "  <th>Model:</th>           <td>SARIMAX(1, 0, 2)x(1, 0, 2, 52)</td> <th>  Log Likelihood     </th> <td>-386.500</td>\n",
       "</tr>\n",
       "<tr>\n",
       "  <th>Date:</th>                   <td>Mon, 21 Apr 2025</td>        <th>  AIC                </th>  <td>787.000</td>\n",
       "</tr>\n",
       "<tr>\n",
       "  <th>Time:</th>                       <td>11:37:00</td>            <th>  BIC                </th>  <td>805.236</td>\n",
       "</tr>\n",
       "<tr>\n",
       "  <th>Sample:</th>                    <td>03-27-2022</td>           <th>  HQIC               </th>  <td>794.381</td>\n",
       "</tr>\n",
       "<tr>\n",
       "  <th></th>                          <td>- 02-18-2024</td>          <th>                     </th>     <td> </td>   \n",
       "</tr>\n",
       "<tr>\n",
       "  <th>Covariance Type:</th>               <td>opg</td>              <th>                     </th>     <td> </td>   \n",
       "</tr>\n",
       "</table>\n",
       "<table class=\"simpletable\">\n",
       "<tr>\n",
       "      <td></td>         <th>coef</th>     <th>std err</th>      <th>z</th>      <th>P>|z|</th>  <th>[0.025</th>    <th>0.975]</th>  \n",
       "</tr>\n",
       "<tr>\n",
       "  <th>ar.L1</th>     <td>    0.9837</td> <td>    0.038</td> <td>   26.105</td> <td> 0.000</td> <td>    0.910</td> <td>    1.058</td>\n",
       "</tr>\n",
       "<tr>\n",
       "  <th>ma.L1</th>     <td>   -0.2663</td> <td>    0.154</td> <td>   -1.724</td> <td> 0.085</td> <td>   -0.569</td> <td>    0.036</td>\n",
       "</tr>\n",
       "<tr>\n",
       "  <th>ma.L2</th>     <td>   -0.3031</td> <td>    0.210</td> <td>   -1.446</td> <td> 0.148</td> <td>   -0.714</td> <td>    0.108</td>\n",
       "</tr>\n",
       "<tr>\n",
       "  <th>ar.S.L52</th>  <td>    0.8658</td> <td>  317.196</td> <td>    0.003</td> <td> 0.998</td> <td> -620.827</td> <td>  622.558</td>\n",
       "</tr>\n",
       "<tr>\n",
       "  <th>ma.S.L52</th>  <td>   -1.4178</td> <td>  572.337</td> <td>   -0.002</td> <td> 0.998</td> <td>-1123.178</td> <td> 1120.342</td>\n",
       "</tr>\n",
       "<tr>\n",
       "  <th>ma.S.L104</th> <td>    0.9576</td> <td>  203.851</td> <td>    0.005</td> <td> 0.996</td> <td> -398.583</td> <td>  400.498</td>\n",
       "</tr>\n",
       "<tr>\n",
       "  <th>sigma2</th>    <td>   58.7111</td> <td>   32.694</td> <td>    1.796</td> <td> 0.073</td> <td>   -5.368</td> <td>  122.790</td>\n",
       "</tr>\n",
       "</table>\n",
       "<table class=\"simpletable\">\n",
       "<tr>\n",
       "  <th>Ljung-Box (L1) (Q):</th>     <td>0.52</td> <th>  Jarque-Bera (JB):  </th> <td>1202.54</td>\n",
       "</tr>\n",
       "<tr>\n",
       "  <th>Prob(Q):</th>                <td>0.47</td> <th>  Prob(JB):          </th>  <td>0.00</td>  \n",
       "</tr>\n",
       "<tr>\n",
       "  <th>Heteroskedasticity (H):</th> <td>0.40</td> <th>  Skew:              </th>  <td>3.33</td>  \n",
       "</tr>\n",
       "<tr>\n",
       "  <th>Prob(H) (two-sided):</th>    <td>0.01</td> <th>  Kurtosis:          </th>  <td>18.63</td> \n",
       "</tr>\n",
       "</table><br/><br/>Warnings:<br/>[1] Covariance matrix calculated using the outer product of gradients (complex-step).<br/>[2] Covariance matrix is singular or near-singular, with condition number 7.36e+18. Standard errors may be unstable."
      ],
      "text/latex": [
       "\\begin{center}\n",
       "\\begin{tabular}{lclc}\n",
       "\\toprule\n",
       "\\textbf{Dep. Variable:}          &           Popularity           & \\textbf{  No. Observations:  } &    100      \\\\\n",
       "\\textbf{Model:}                  & SARIMAX(1, 0, 2)x(1, 0, 2, 52) & \\textbf{  Log Likelihood     } &  -386.500   \\\\\n",
       "\\textbf{Date:}                   &        Mon, 21 Apr 2025        & \\textbf{  AIC                } &  787.000    \\\\\n",
       "\\textbf{Time:}                   &            11:37:00            & \\textbf{  BIC                } &  805.236    \\\\\n",
       "\\textbf{Sample:}                 &           03-27-2022           & \\textbf{  HQIC               } &  794.381    \\\\\n",
       "\\textbf{}                        &          - 02-18-2024          & \\textbf{                     } &             \\\\\n",
       "\\textbf{Covariance Type:}        &              opg               & \\textbf{                     } &             \\\\\n",
       "\\bottomrule\n",
       "\\end{tabular}\n",
       "\\begin{tabular}{lcccccc}\n",
       "                   & \\textbf{coef} & \\textbf{std err} & \\textbf{z} & \\textbf{P$> |$z$|$} & \\textbf{[0.025} & \\textbf{0.975]}  \\\\\n",
       "\\midrule\n",
       "\\textbf{ar.L1}     &       0.9837  &        0.038     &    26.105  &         0.000        &        0.910    &        1.058     \\\\\n",
       "\\textbf{ma.L1}     &      -0.2663  &        0.154     &    -1.724  &         0.085        &       -0.569    &        0.036     \\\\\n",
       "\\textbf{ma.L2}     &      -0.3031  &        0.210     &    -1.446  &         0.148        &       -0.714    &        0.108     \\\\\n",
       "\\textbf{ar.S.L52}  &       0.8658  &      317.196     &     0.003  &         0.998        &     -620.827    &      622.558     \\\\\n",
       "\\textbf{ma.S.L52}  &      -1.4178  &      572.337     &    -0.002  &         0.998        &    -1123.178    &     1120.342     \\\\\n",
       "\\textbf{ma.S.L104} &       0.9576  &      203.851     &     0.005  &         0.996        &     -398.583    &      400.498     \\\\\n",
       "\\textbf{sigma2}    &      58.7111  &       32.694     &     1.796  &         0.073        &       -5.368    &      122.790     \\\\\n",
       "\\bottomrule\n",
       "\\end{tabular}\n",
       "\\begin{tabular}{lclc}\n",
       "\\textbf{Ljung-Box (L1) (Q):}     & 0.52 & \\textbf{  Jarque-Bera (JB):  } & 1202.54  \\\\\n",
       "\\textbf{Prob(Q):}                & 0.47 & \\textbf{  Prob(JB):          } &   0.00   \\\\\n",
       "\\textbf{Heteroskedasticity (H):} & 0.40 & \\textbf{  Skew:              } &   3.33   \\\\\n",
       "\\textbf{Prob(H) (two-sided):}    & 0.01 & \\textbf{  Kurtosis:          } &  18.63   \\\\\n",
       "\\bottomrule\n",
       "\\end{tabular}\n",
       "%\\caption{SARIMAX Results}\n",
       "\\end{center}\n",
       "\n",
       "Warnings: \\newline\n",
       " [1] Covariance matrix calculated using the outer product of gradients (complex-step). \\newline\n",
       " [2] Covariance matrix is singular or near-singular, with condition number 7.36e+18. Standard errors may be unstable."
      ],
      "text/plain": [
       "<class 'statsmodels.iolib.summary.Summary'>\n",
       "\"\"\"\n",
       "                                     SARIMAX Results                                      \n",
       "==========================================================================================\n",
       "Dep. Variable:                         Popularity   No. Observations:                  100\n",
       "Model:             SARIMAX(1, 0, 2)x(1, 0, 2, 52)   Log Likelihood                -386.500\n",
       "Date:                            Mon, 21 Apr 2025   AIC                            787.000\n",
       "Time:                                    11:37:00   BIC                            805.236\n",
       "Sample:                                03-27-2022   HQIC                           794.381\n",
       "                                     - 02-18-2024                                         \n",
       "Covariance Type:                              opg                                         \n",
       "==============================================================================\n",
       "                 coef    std err          z      P>|z|      [0.025      0.975]\n",
       "------------------------------------------------------------------------------\n",
       "ar.L1          0.9837      0.038     26.105      0.000       0.910       1.058\n",
       "ma.L1         -0.2663      0.154     -1.724      0.085      -0.569       0.036\n",
       "ma.L2         -0.3031      0.210     -1.446      0.148      -0.714       0.108\n",
       "ar.S.L52       0.8658    317.196      0.003      0.998    -620.827     622.558\n",
       "ma.S.L52      -1.4178    572.337     -0.002      0.998   -1123.178    1120.342\n",
       "ma.S.L104      0.9576    203.851      0.005      0.996    -398.583     400.498\n",
       "sigma2        58.7111     32.694      1.796      0.073      -5.368     122.790\n",
       "===================================================================================\n",
       "Ljung-Box (L1) (Q):                   0.52   Jarque-Bera (JB):              1202.54\n",
       "Prob(Q):                              0.47   Prob(JB):                         0.00\n",
       "Heteroskedasticity (H):               0.40   Skew:                             3.33\n",
       "Prob(H) (two-sided):                  0.01   Kurtosis:                        18.63\n",
       "===================================================================================\n",
       "\n",
       "Warnings:\n",
       "[1] Covariance matrix calculated using the outer product of gradients (complex-step).\n",
       "[2] Covariance matrix is singular or near-singular, with condition number 7.36e+18. Standard errors may be unstable.\n",
       "\"\"\""
      ]
     },
     "execution_count": 77,
     "metadata": {},
     "output_type": "execute_result"
    }
   ],
   "source": [
    "sar.summary()"
   ]
  },
  {
   "cell_type": "code",
   "execution_count": 81,
   "metadata": {},
   "outputs": [
    {
     "data": {
      "text/html": [
       "<div>\n",
       "<style scoped>\n",
       "    .dataframe tbody tr th:only-of-type {\n",
       "        vertical-align: middle;\n",
       "    }\n",
       "\n",
       "    .dataframe tbody tr th {\n",
       "        vertical-align: top;\n",
       "    }\n",
       "\n",
       "    .dataframe thead th {\n",
       "        text-align: right;\n",
       "    }\n",
       "</style>\n",
       "<table border=\"1\" class=\"dataframe\">\n",
       "  <thead>\n",
       "    <tr style=\"text-align: right;\">\n",
       "      <th></th>\n",
       "      <th>Popularity</th>\n",
       "      <th>Popularity_predict</th>\n",
       "    </tr>\n",
       "  </thead>\n",
       "  <tbody>\n",
       "    <tr>\n",
       "      <th>2022-03-27</th>\n",
       "      <td>16</td>\n",
       "      <td>0.000000</td>\n",
       "    </tr>\n",
       "    <tr>\n",
       "      <th>2022-04-03</th>\n",
       "      <td>13</td>\n",
       "      <td>14.798429</td>\n",
       "    </tr>\n",
       "    <tr>\n",
       "      <th>2022-04-10</th>\n",
       "      <td>18</td>\n",
       "      <td>12.535902</td>\n",
       "    </tr>\n",
       "    <tr>\n",
       "      <th>2022-04-17</th>\n",
       "      <td>29</td>\n",
       "      <td>17.063889</td>\n",
       "    </tr>\n",
       "    <tr>\n",
       "      <th>2022-04-24</th>\n",
       "      <td>35</td>\n",
       "      <td>24.204137</td>\n",
       "    </tr>\n",
       "    <tr>\n",
       "      <th>...</th>\n",
       "      <td>...</td>\n",
       "      <td>...</td>\n",
       "    </tr>\n",
       "    <tr>\n",
       "      <th>2024-01-21</th>\n",
       "      <td>33</td>\n",
       "      <td>30.471386</td>\n",
       "    </tr>\n",
       "    <tr>\n",
       "      <th>2024-01-28</th>\n",
       "      <td>26</td>\n",
       "      <td>33.878281</td>\n",
       "    </tr>\n",
       "    <tr>\n",
       "      <th>2024-02-04</th>\n",
       "      <td>37</td>\n",
       "      <td>27.196652</td>\n",
       "    </tr>\n",
       "    <tr>\n",
       "      <th>2024-02-11</th>\n",
       "      <td>28</td>\n",
       "      <td>36.308806</td>\n",
       "    </tr>\n",
       "    <tr>\n",
       "      <th>2024-02-18</th>\n",
       "      <td>28</td>\n",
       "      <td>27.028685</td>\n",
       "    </tr>\n",
       "  </tbody>\n",
       "</table>\n",
       "<p>100 rows × 2 columns</p>\n",
       "</div>"
      ],
      "text/plain": [
       "            Popularity  Popularity_predict\n",
       "2022-03-27          16            0.000000\n",
       "2022-04-03          13           14.798429\n",
       "2022-04-10          18           12.535902\n",
       "2022-04-17          29           17.063889\n",
       "2022-04-24          35           24.204137\n",
       "...                ...                 ...\n",
       "2024-01-21          33           30.471386\n",
       "2024-01-28          26           33.878281\n",
       "2024-02-04          37           27.196652\n",
       "2024-02-11          28           36.308806\n",
       "2024-02-18          28           27.028685\n",
       "\n",
       "[100 rows x 2 columns]"
      ]
     },
     "execution_count": 81,
     "metadata": {},
     "output_type": "execute_result"
    }
   ],
   "source": [
    "sar_pred_train = sar.predict(start=train.index[0], end=train.index[-1])\n",
    "sar_pred_train = pd.DataFrame(sar_pred_train)\n",
    "sar_pred_train.columns = ['Popularity_predict']\n",
    "\n",
    "## Concate with actual test-set\n",
    "act_vs_pred_sar=pd.concat([train, sar_pred_train], axis=1)\n",
    "act_vs_pred_sar"
   ]
  },
  {
   "cell_type": "code",
   "execution_count": 82,
   "metadata": {},
   "outputs": [
    {
     "name": "stdout",
     "output_type": "stream",
     "text": [
      "MAE train  :  6.511971850918965\n",
      "MAPE train  :  0.1972276636463336\n"
     ]
    }
   ],
   "source": [
    "print('MAE train  : ', mean_absolute_error(train, sar_pred_train))\n",
    "print('MAPE train  : ', mean_absolute_percentage_error(train, sar_pred_train))"
   ]
  },
  {
   "cell_type": "code",
   "execution_count": 83,
   "metadata": {},
   "outputs": [
    {
     "data": {
      "text/html": [
       "<div>\n",
       "<style scoped>\n",
       "    .dataframe tbody tr th:only-of-type {\n",
       "        vertical-align: middle;\n",
       "    }\n",
       "\n",
       "    .dataframe tbody tr th {\n",
       "        vertical-align: top;\n",
       "    }\n",
       "\n",
       "    .dataframe thead th {\n",
       "        text-align: right;\n",
       "    }\n",
       "</style>\n",
       "<table border=\"1\" class=\"dataframe\">\n",
       "  <thead>\n",
       "    <tr style=\"text-align: right;\">\n",
       "      <th></th>\n",
       "      <th>Popularity</th>\n",
       "      <th>Popularity</th>\n",
       "    </tr>\n",
       "  </thead>\n",
       "  <tbody>\n",
       "    <tr>\n",
       "      <th>2024-02-25</th>\n",
       "      <td>23</td>\n",
       "      <td>30.038367</td>\n",
       "    </tr>\n",
       "    <tr>\n",
       "      <th>2024-03-03</th>\n",
       "      <td>27</td>\n",
       "      <td>29.515301</td>\n",
       "    </tr>\n",
       "    <tr>\n",
       "      <th>2024-03-10</th>\n",
       "      <td>20</td>\n",
       "      <td>29.226118</td>\n",
       "    </tr>\n",
       "    <tr>\n",
       "      <th>2024-03-17</th>\n",
       "      <td>21</td>\n",
       "      <td>27.891629</td>\n",
       "    </tr>\n",
       "    <tr>\n",
       "      <th>2024-03-24</th>\n",
       "      <td>25</td>\n",
       "      <td>24.997037</td>\n",
       "    </tr>\n",
       "    <tr>\n",
       "      <th>2024-03-31</th>\n",
       "      <td>23</td>\n",
       "      <td>23.527733</td>\n",
       "    </tr>\n",
       "    <tr>\n",
       "      <th>2024-04-07</th>\n",
       "      <td>59</td>\n",
       "      <td>25.341572</td>\n",
       "    </tr>\n",
       "    <tr>\n",
       "      <th>2024-04-14</th>\n",
       "      <td>64</td>\n",
       "      <td>29.655077</td>\n",
       "    </tr>\n",
       "    <tr>\n",
       "      <th>2024-04-21</th>\n",
       "      <td>46</td>\n",
       "      <td>31.700681</td>\n",
       "    </tr>\n",
       "    <tr>\n",
       "      <th>2024-04-28</th>\n",
       "      <td>37</td>\n",
       "      <td>57.043933</td>\n",
       "    </tr>\n",
       "    <tr>\n",
       "      <th>2024-05-05</th>\n",
       "      <td>47</td>\n",
       "      <td>43.007734</td>\n",
       "    </tr>\n",
       "    <tr>\n",
       "      <th>2024-05-12</th>\n",
       "      <td>36</td>\n",
       "      <td>36.493962</td>\n",
       "    </tr>\n",
       "    <tr>\n",
       "      <th>2024-05-19</th>\n",
       "      <td>49</td>\n",
       "      <td>31.184902</td>\n",
       "    </tr>\n",
       "    <tr>\n",
       "      <th>2024-05-26</th>\n",
       "      <td>36</td>\n",
       "      <td>29.669836</td>\n",
       "    </tr>\n",
       "    <tr>\n",
       "      <th>2024-06-02</th>\n",
       "      <td>39</td>\n",
       "      <td>30.798605</td>\n",
       "    </tr>\n",
       "    <tr>\n",
       "      <th>2024-06-09</th>\n",
       "      <td>30</td>\n",
       "      <td>26.430897</td>\n",
       "    </tr>\n",
       "    <tr>\n",
       "      <th>2024-06-16</th>\n",
       "      <td>40</td>\n",
       "      <td>29.190866</td>\n",
       "    </tr>\n",
       "    <tr>\n",
       "      <th>2024-06-23</th>\n",
       "      <td>45</td>\n",
       "      <td>29.849257</td>\n",
       "    </tr>\n",
       "    <tr>\n",
       "      <th>2024-06-30</th>\n",
       "      <td>54</td>\n",
       "      <td>31.406527</td>\n",
       "    </tr>\n",
       "    <tr>\n",
       "      <th>2024-07-07</th>\n",
       "      <td>33</td>\n",
       "      <td>27.900538</td>\n",
       "    </tr>\n",
       "    <tr>\n",
       "      <th>2024-07-14</th>\n",
       "      <td>40</td>\n",
       "      <td>29.049463</td>\n",
       "    </tr>\n",
       "    <tr>\n",
       "      <th>2024-07-21</th>\n",
       "      <td>43</td>\n",
       "      <td>32.219440</td>\n",
       "    </tr>\n",
       "    <tr>\n",
       "      <th>2024-07-28</th>\n",
       "      <td>34</td>\n",
       "      <td>25.764242</td>\n",
       "    </tr>\n",
       "    <tr>\n",
       "      <th>2024-08-04</th>\n",
       "      <td>32</td>\n",
       "      <td>26.875375</td>\n",
       "    </tr>\n",
       "    <tr>\n",
       "      <th>2024-08-11</th>\n",
       "      <td>36</td>\n",
       "      <td>27.568219</td>\n",
       "    </tr>\n",
       "    <tr>\n",
       "      <th>2024-08-18</th>\n",
       "      <td>29</td>\n",
       "      <td>26.153576</td>\n",
       "    </tr>\n",
       "  </tbody>\n",
       "</table>\n",
       "</div>"
      ],
      "text/plain": [
       "            Popularity  Popularity\n",
       "2024-02-25          23   30.038367\n",
       "2024-03-03          27   29.515301\n",
       "2024-03-10          20   29.226118\n",
       "2024-03-17          21   27.891629\n",
       "2024-03-24          25   24.997037\n",
       "2024-03-31          23   23.527733\n",
       "2024-04-07          59   25.341572\n",
       "2024-04-14          64   29.655077\n",
       "2024-04-21          46   31.700681\n",
       "2024-04-28          37   57.043933\n",
       "2024-05-05          47   43.007734\n",
       "2024-05-12          36   36.493962\n",
       "2024-05-19          49   31.184902\n",
       "2024-05-26          36   29.669836\n",
       "2024-06-02          39   30.798605\n",
       "2024-06-09          30   26.430897\n",
       "2024-06-16          40   29.190866\n",
       "2024-06-23          45   29.849257\n",
       "2024-06-30          54   31.406527\n",
       "2024-07-07          33   27.900538\n",
       "2024-07-14          40   29.049463\n",
       "2024-07-21          43   32.219440\n",
       "2024-07-28          34   25.764242\n",
       "2024-08-04          32   26.875375\n",
       "2024-08-11          36   27.568219\n",
       "2024-08-18          29   26.153576"
      ]
     },
     "execution_count": 83,
     "metadata": {},
     "output_type": "execute_result"
    }
   ],
   "source": [
    "# Predict test-set\n",
    "\n",
    "## Predict test-set\n",
    "sar_pred_test = sar.predict(start=test.index[0], end=test.index[-1])\n",
    "sar_pred_test = pd.DataFrame(sar_pred_test)\n",
    "sar_pred_test.columns = ['Popularity']\n",
    "\n",
    "## Concate with actual test-set\n",
    "act_vs_pred_sar=pd.concat([test, sar_pred_test], axis=1)\n",
    "act_vs_pred_sar"
   ]
  },
  {
   "cell_type": "code",
   "execution_count": 84,
   "metadata": {},
   "outputs": [
    {
     "name": "stdout",
     "output_type": "stream",
     "text": [
      "MAE test  :  10.345123014901628\n",
      "MAPE test  :  0.25299275871208354\n"
     ]
    }
   ],
   "source": [
    "print('MAE test  : ', mean_absolute_error(test, sar_pred_test))\n",
    "print('MAPE test  : ', mean_absolute_percentage_error(test, sar_pred_test))"
   ]
  },
  {
   "cell_type": "markdown",
   "metadata": {},
   "source": [
    "Untuk SARIMA, pada hasil train menunjukan angka MAE sebesar 6.5 yang menunjukan bahwa model meleset dalam memprediksi kurang lebih 6 angka dan angka MAPE menunjukan 0.19 yang menunjukan bahwa model meleset 19% dalam memprediksi.\n",
    "\n",
    "Lalu untuk test, menunjukan angka 10.3 yang menunjukan bahwa model meleset dalam memprediksi kurang lebih 10 angka dan angka MAPE menunjukan 0.25 yang menunjukan bahwa model meleset 25% dalam memprediksi."
   ]
  },
  {
   "cell_type": "code",
   "execution_count": 85,
   "metadata": {},
   "outputs": [
    {
     "data": {
      "image/png": "[encoded data removed]",
      "text/plain": [
       "<Figure size 1400x900 with 1 Axes>"
      ]
     },
     "metadata": {},
     "output_type": "display_data"
    }
   ],
   "source": [
    "plt.plot(train, label = 'train')\n",
    "plt.plot(test, label = 'test')\n",
    "plt.plot(sar_pred_test, color = 'red', label = 'predict')\n",
    "plt.legend()\n",
    "plt.show()"
   ]
  },
  {
   "cell_type": "markdown",
   "metadata": {},
   "source": [
    "Garis yang merah merupakan prediksi dari popularity data tersebut. Bentuknya mengikuti pola seasonal."
   ]
  },
  {
   "cell_type": "markdown",
   "metadata": {},
   "source": [
    "Perbandingan :\n",
    "\n",
    "ARIMA :\n",
    "\n",
    "TRAIN\n",
    "\n",
    "- MAE : 6.69\n",
    "\n",
    "- MAPE : 0.21\n",
    "\n",
    "TEST\n",
    "\n",
    "- MAE : 10\n",
    "\n",
    "- MAPE : 0.24\n",
    "\n",
    "SARIMA :\n",
    "\n",
    "TRAIN\n",
    "\n",
    "- MAE : 6.5\n",
    "\n",
    "- MAPE : 0.19\n",
    "\n",
    "TEST\n",
    "\n",
    "- MAE : 10.3\n",
    "\n",
    "- MAPE : 0.25\n",
    "\n",
    "Jika dilihat dari perbandingan data tersebut, nilai test MAE dan MAPE pada ARIMA lebih kecil daripada SARIMA yang menunjukan bahwa error pada ARIMA lebih sedikit dibanding SARIMA sehingga ARIMA merupakan model yang terbaik walaupun hasil prediksi SARIMA garisnya mengikuti pola seasonal"
   ]
  },
  {
   "cell_type": "markdown",
   "metadata": {},
   "source": [
    "# BAB 7 - Inference"
   ]
  },
  {
   "cell_type": "markdown",
   "metadata": {},
   "source": [
    "Setelah menentukan model mana yang terbaik, selanjutnya inference ARIMA selama satu tahun kedepan yang berarti 52 minggu"
   ]
  },
  {
   "cell_type": "code",
   "execution_count": 88,
   "metadata": {},
   "outputs": [],
   "source": [
    "# Predict next 52 weeks\n",
    "\n",
    "len_dataset = df.shape[0]\n",
    "len_predict = len_dataset + 52\n",
    "\n",
    "new_pred = result_model_arima_102.predict(len_dataset, len_predict)\n",
    "new_pred = pd.DataFrame(new_pred)\n",
    "new_pred.columns=['Popularity_Predict']\n",
    "all_dataset_with_pred = pd.concat([df, new_pred], axis=0)"
   ]
  },
  {
   "cell_type": "code",
   "execution_count": 89,
   "metadata": {},
   "outputs": [
    {
     "data": {
      "text/html": [
       "<div>\n",
       "<style scoped>\n",
       "    .dataframe tbody tr th:only-of-type {\n",
       "        vertical-align: middle;\n",
       "    }\n",
       "\n",
       "    .dataframe tbody tr th {\n",
       "        vertical-align: top;\n",
       "    }\n",
       "\n",
       "    .dataframe thead th {\n",
       "        text-align: right;\n",
       "    }\n",
       "</style>\n",
       "<table border=\"1\" class=\"dataframe\">\n",
       "  <thead>\n",
       "    <tr style=\"text-align: right;\">\n",
       "      <th></th>\n",
       "      <th>Popularity</th>\n",
       "    </tr>\n",
       "  </thead>\n",
       "  <tbody>\n",
       "    <tr>\n",
       "      <th>2024-07-21</th>\n",
       "      <td>43</td>\n",
       "    </tr>\n",
       "    <tr>\n",
       "      <th>2024-07-28</th>\n",
       "      <td>34</td>\n",
       "    </tr>\n",
       "    <tr>\n",
       "      <th>2024-08-04</th>\n",
       "      <td>32</td>\n",
       "    </tr>\n",
       "    <tr>\n",
       "      <th>2024-08-11</th>\n",
       "      <td>36</td>\n",
       "    </tr>\n",
       "    <tr>\n",
       "      <th>2024-08-18</th>\n",
       "      <td>29</td>\n",
       "    </tr>\n",
       "  </tbody>\n",
       "</table>\n",
       "</div>"
      ],
      "text/plain": [
       "            Popularity\n",
       "2024-07-21          43\n",
       "2024-07-28          34\n",
       "2024-08-04          32\n",
       "2024-08-11          36\n",
       "2024-08-18          29"
      ]
     },
     "execution_count": 89,
     "metadata": {},
     "output_type": "execute_result"
    }
   ],
   "source": [
    "# Original dataset\n",
    "\n",
    "test.tail(5)"
   ]
  },
  {
   "cell_type": "code",
   "execution_count": 90,
   "metadata": {},
   "outputs": [
    {
     "data": {
      "text/html": [
       "<div>\n",
       "<style scoped>\n",
       "    .dataframe tbody tr th:only-of-type {\n",
       "        vertical-align: middle;\n",
       "    }\n",
       "\n",
       "    .dataframe tbody tr th {\n",
       "        vertical-align: top;\n",
       "    }\n",
       "\n",
       "    .dataframe thead th {\n",
       "        text-align: right;\n",
       "    }\n",
       "</style>\n",
       "<table border=\"1\" class=\"dataframe\">\n",
       "  <thead>\n",
       "    <tr style=\"text-align: right;\">\n",
       "      <th></th>\n",
       "      <th>Popularity_Predict</th>\n",
       "    </tr>\n",
       "  </thead>\n",
       "  <tbody>\n",
       "    <tr>\n",
       "      <th>2024-08-25</th>\n",
       "      <td>30.455419</td>\n",
       "    </tr>\n",
       "    <tr>\n",
       "      <th>2024-09-01</th>\n",
       "      <td>30.455419</td>\n",
       "    </tr>\n",
       "    <tr>\n",
       "      <th>2024-09-08</th>\n",
       "      <td>30.455419</td>\n",
       "    </tr>\n",
       "    <tr>\n",
       "      <th>2024-09-15</th>\n",
       "      <td>30.455419</td>\n",
       "    </tr>\n",
       "    <tr>\n",
       "      <th>2024-09-22</th>\n",
       "      <td>30.455419</td>\n",
       "    </tr>\n",
       "    <tr>\n",
       "      <th>2024-09-29</th>\n",
       "      <td>30.455419</td>\n",
       "    </tr>\n",
       "    <tr>\n",
       "      <th>2024-10-06</th>\n",
       "      <td>30.455419</td>\n",
       "    </tr>\n",
       "    <tr>\n",
       "      <th>2024-10-13</th>\n",
       "      <td>30.455419</td>\n",
       "    </tr>\n",
       "    <tr>\n",
       "      <th>2024-10-20</th>\n",
       "      <td>30.455419</td>\n",
       "    </tr>\n",
       "    <tr>\n",
       "      <th>2024-10-27</th>\n",
       "      <td>30.455419</td>\n",
       "    </tr>\n",
       "    <tr>\n",
       "      <th>2024-11-03</th>\n",
       "      <td>30.455419</td>\n",
       "    </tr>\n",
       "    <tr>\n",
       "      <th>2024-11-10</th>\n",
       "      <td>30.455419</td>\n",
       "    </tr>\n",
       "    <tr>\n",
       "      <th>2024-11-17</th>\n",
       "      <td>30.455419</td>\n",
       "    </tr>\n",
       "    <tr>\n",
       "      <th>2024-11-24</th>\n",
       "      <td>30.455419</td>\n",
       "    </tr>\n",
       "    <tr>\n",
       "      <th>2024-12-01</th>\n",
       "      <td>30.455419</td>\n",
       "    </tr>\n",
       "    <tr>\n",
       "      <th>2024-12-08</th>\n",
       "      <td>30.455419</td>\n",
       "    </tr>\n",
       "    <tr>\n",
       "      <th>2024-12-15</th>\n",
       "      <td>30.455419</td>\n",
       "    </tr>\n",
       "    <tr>\n",
       "      <th>2024-12-22</th>\n",
       "      <td>30.455419</td>\n",
       "    </tr>\n",
       "    <tr>\n",
       "      <th>2024-12-29</th>\n",
       "      <td>30.455419</td>\n",
       "    </tr>\n",
       "    <tr>\n",
       "      <th>2025-01-05</th>\n",
       "      <td>30.455419</td>\n",
       "    </tr>\n",
       "    <tr>\n",
       "      <th>2025-01-12</th>\n",
       "      <td>30.455419</td>\n",
       "    </tr>\n",
       "    <tr>\n",
       "      <th>2025-01-19</th>\n",
       "      <td>30.455419</td>\n",
       "    </tr>\n",
       "    <tr>\n",
       "      <th>2025-01-26</th>\n",
       "      <td>30.455419</td>\n",
       "    </tr>\n",
       "    <tr>\n",
       "      <th>2025-02-02</th>\n",
       "      <td>30.455419</td>\n",
       "    </tr>\n",
       "    <tr>\n",
       "      <th>2025-02-09</th>\n",
       "      <td>30.455419</td>\n",
       "    </tr>\n",
       "    <tr>\n",
       "      <th>2025-02-16</th>\n",
       "      <td>30.455419</td>\n",
       "    </tr>\n",
       "    <tr>\n",
       "      <th>2025-02-23</th>\n",
       "      <td>30.455419</td>\n",
       "    </tr>\n",
       "    <tr>\n",
       "      <th>2025-03-02</th>\n",
       "      <td>30.455419</td>\n",
       "    </tr>\n",
       "    <tr>\n",
       "      <th>2025-03-09</th>\n",
       "      <td>30.455419</td>\n",
       "    </tr>\n",
       "    <tr>\n",
       "      <th>2025-03-16</th>\n",
       "      <td>30.455419</td>\n",
       "    </tr>\n",
       "    <tr>\n",
       "      <th>2025-03-23</th>\n",
       "      <td>30.455419</td>\n",
       "    </tr>\n",
       "    <tr>\n",
       "      <th>2025-03-30</th>\n",
       "      <td>30.455419</td>\n",
       "    </tr>\n",
       "    <tr>\n",
       "      <th>2025-04-06</th>\n",
       "      <td>30.455419</td>\n",
       "    </tr>\n",
       "    <tr>\n",
       "      <th>2025-04-13</th>\n",
       "      <td>30.455419</td>\n",
       "    </tr>\n",
       "    <tr>\n",
       "      <th>2025-04-20</th>\n",
       "      <td>30.455419</td>\n",
       "    </tr>\n",
       "    <tr>\n",
       "      <th>2025-04-27</th>\n",
       "      <td>30.455419</td>\n",
       "    </tr>\n",
       "    <tr>\n",
       "      <th>2025-05-04</th>\n",
       "      <td>30.455419</td>\n",
       "    </tr>\n",
       "    <tr>\n",
       "      <th>2025-05-11</th>\n",
       "      <td>30.455419</td>\n",
       "    </tr>\n",
       "    <tr>\n",
       "      <th>2025-05-18</th>\n",
       "      <td>30.455419</td>\n",
       "    </tr>\n",
       "    <tr>\n",
       "      <th>2025-05-25</th>\n",
       "      <td>30.455419</td>\n",
       "    </tr>\n",
       "    <tr>\n",
       "      <th>2025-06-01</th>\n",
       "      <td>30.455419</td>\n",
       "    </tr>\n",
       "    <tr>\n",
       "      <th>2025-06-08</th>\n",
       "      <td>30.455419</td>\n",
       "    </tr>\n",
       "    <tr>\n",
       "      <th>2025-06-15</th>\n",
       "      <td>30.455419</td>\n",
       "    </tr>\n",
       "    <tr>\n",
       "      <th>2025-06-22</th>\n",
       "      <td>30.455419</td>\n",
       "    </tr>\n",
       "    <tr>\n",
       "      <th>2025-06-29</th>\n",
       "      <td>30.455419</td>\n",
       "    </tr>\n",
       "    <tr>\n",
       "      <th>2025-07-06</th>\n",
       "      <td>30.455419</td>\n",
       "    </tr>\n",
       "    <tr>\n",
       "      <th>2025-07-13</th>\n",
       "      <td>30.455419</td>\n",
       "    </tr>\n",
       "    <tr>\n",
       "      <th>2025-07-20</th>\n",
       "      <td>30.455419</td>\n",
       "    </tr>\n",
       "    <tr>\n",
       "      <th>2025-07-27</th>\n",
       "      <td>30.455419</td>\n",
       "    </tr>\n",
       "    <tr>\n",
       "      <th>2025-08-03</th>\n",
       "      <td>30.455419</td>\n",
       "    </tr>\n",
       "    <tr>\n",
       "      <th>2025-08-10</th>\n",
       "      <td>30.455419</td>\n",
       "    </tr>\n",
       "    <tr>\n",
       "      <th>2025-08-17</th>\n",
       "      <td>30.455419</td>\n",
       "    </tr>\n",
       "    <tr>\n",
       "      <th>2025-08-24</th>\n",
       "      <td>30.455419</td>\n",
       "    </tr>\n",
       "  </tbody>\n",
       "</table>\n",
       "</div>"
      ],
      "text/plain": [
       "            Popularity_Predict\n",
       "2024-08-25           30.455419\n",
       "2024-09-01           30.455419\n",
       "2024-09-08           30.455419\n",
       "2024-09-15           30.455419\n",
       "2024-09-22           30.455419\n",
       "2024-09-29           30.455419\n",
       "2024-10-06           30.455419\n",
       "2024-10-13           30.455419\n",
       "2024-10-20           30.455419\n",
       "2024-10-27           30.455419\n",
       "2024-11-03           30.455419\n",
       "2024-11-10           30.455419\n",
       "2024-11-17           30.455419\n",
       "2024-11-24           30.455419\n",
       "2024-12-01           30.455419\n",
       "2024-12-08           30.455419\n",
       "2024-12-15           30.455419\n",
       "2024-12-22           30.455419\n",
       "2024-12-29           30.455419\n",
       "2025-01-05           30.455419\n",
       "2025-01-12           30.455419\n",
       "2025-01-19           30.455419\n",
       "2025-01-26           30.455419\n",
       "2025-02-02           30.455419\n",
       "2025-02-09           30.455419\n",
       "2025-02-16           30.455419\n",
       "2025-02-23           30.455419\n",
       "2025-03-02           30.455419\n",
       "2025-03-09           30.455419\n",
       "2025-03-16           30.455419\n",
       "2025-03-23           30.455419\n",
       "2025-03-30           30.455419\n",
       "2025-04-06           30.455419\n",
       "2025-04-13           30.455419\n",
       "2025-04-20           30.455419\n",
       "2025-04-27           30.455419\n",
       "2025-05-04           30.455419\n",
       "2025-05-11           30.455419\n",
       "2025-05-18           30.455419\n",
       "2025-05-25           30.455419\n",
       "2025-06-01           30.455419\n",
       "2025-06-08           30.455419\n",
       "2025-06-15           30.455419\n",
       "2025-06-22           30.455419\n",
       "2025-06-29           30.455419\n",
       "2025-07-06           30.455419\n",
       "2025-07-13           30.455419\n",
       "2025-07-20           30.455419\n",
       "2025-07-27           30.455419\n",
       "2025-08-03           30.455419\n",
       "2025-08-10           30.455419\n",
       "2025-08-17           30.455419\n",
       "2025-08-24           30.455419"
      ]
     },
     "execution_count": 90,
     "metadata": {},
     "output_type": "execute_result"
    }
   ],
   "source": [
    "# Prediction of next 52 Weeks\n",
    "\n",
    "new_pred"
   ]
  },
  {
   "cell_type": "markdown",
   "metadata": {},
   "source": [
    "Hasil prediksi menunjukan angka 30.455419 yang artinya model memprediksi popularitas pulau pari adalah 30 persen atau kurang populer"
   ]
  },
  {
   "cell_type": "markdown",
   "metadata": {},
   "source": [
    "# BAB 8 - Kesimpulan"
   ]
  },
  {
   "cell_type": "markdown",
   "metadata": {},
   "source": [
    "- Berdasarkan hasil EDA, data menunjukkan pola multiplicative dengan tren peningkatan dari tahun 2022 hingga 2024, ditandai oleh lima lonjakan signifikan yang terjadi pada momen-momen libur nasional, seperti 1 Mei 2022, 23 April 2023, 24 Desember 2023, 14 April 2024, dan 30 Juni 2024. Lonjakan ini mencerminkan peningkatan minat masyarakat untuk mencari informasi wisata saat hari libur. Sementara itu, komponen residu menunjukkan variansi yang tinggi, terutama di awal dan akhir data, mengindikasikan adanya fluktuasi yang tidak dapat dijelaskan oleh tren atau musiman\n",
    "- Berdasarkan hasil evaluasi, model ARIMA dan SARIMA memiliki performa yang cukup mirip dalam memprediksi popularitas Pulau Pari. ARIMA menunjukkan MAE sebesar 6.69 dan MAPE 21% pada data latih, serta MAE 10 dan MAPE 24% pada data uji. Sementara itu, SARIMA dengan MAE 6.5 dan MAPE 19% pada data latih, serta MAE 10.3 dan MAPE 25% pada data uji. Jika dilihat dari perbandingan data tersebut, nilai test MAE dan MAPE pada ARIMA lebih kecil daripada SARIMA yang menunjukan bahwa error pada ARIMA lebih sedikit dibanding SARIMA sehingga ARIMA merupakan model yang terbaik walaupun hasil prediksi SARIMA garisnya mengikuti pola seasonal\n",
    "- Kelebihan ARIMA adalah mampu memprediksi sedikit lebih baik dibanding dengan ARIMA, namun untuk kelemahnnya tidak bisa menerima pola musiman sehingga hasil prediksinya konstan."
   ]
  }
 ],
 "metadata": {
  "kernelspec": {
   "display_name": "base",
   "language": "python",
   "name": "python3"
  },
  "language_info": {
   "codemirror_mode": {
    "name": "ipython",
    "version": 3
   },
   "file_extension": ".py",
   "mimetype": "text/x-python",
   "name": "python",
   "nbconvert_exporter": "python",
   "pygments_lexer": "ipython3",
   "version": "3.12.7"
  }
 },
 "nbformat": 4,
 "nbformat_minor": 2
}
